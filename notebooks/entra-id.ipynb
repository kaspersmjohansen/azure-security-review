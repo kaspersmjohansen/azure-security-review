{
 "cells": [
  {
   "cell_type": "markdown",
   "metadata": {},
   "source": [
    "# Contents\n",
    "\n",
    "TOC stopped working for some reason...\n",
    "\n",
    "- Users\n",
    "  - User States\n",
    "  - Disabled Users\n",
    "- [Privileged administration](#privileged-administration)\n",
    "  - [Limit the number of Global Administrators to less than 5 (*high*)](#limit-the-number-of-global-administrators-to-less-than-5)\n",
    "  - [Synchronized accounts (*high*)](#synchronized-accounts)\n",
    "  - [Use groups for Azure AD role assignments (*high*)](#use-groups-for-azure-ad-role-assignments)\n",
    "  - [PIM Alerts (*high*)](#pim-alerts)\n",
    "  - [Recurring access reviews (*high*)](#recurring-access-reviews)\n",
    "  - [Access Reviews: Enabled for all groups (*high*)](#access-reviews:-enabled-for-all-groups)\n",
    "  - [Apps and Owners Can Change All Group Membership](#apps-and-owners-can-change-all-group-membership)\n",
    "  - [Avoid standing access for user accounts and permissions](#avoid-standing-access-for-user-accounts-and-permissions)\n",
    "- [External Identities](#external-identities)\n",
    "  - [Guest Invite Settings (*high*)](#guest-invite-settings)\n",
    "  - [Guest User Access Restrictions (*high*)](#guest-user-access-restrictions)\n",
    "- [User Setting](#user-setting)\n",
    "  - [User role permissions (Application registration) (*high*)](#user-role-permissions-application-registration)\n",
    "  - [Authentication Methods](#authentication-methods)\n",
    "- [Custom Domains](#custom-domains)\n",
    "  - [Verified Domains (*high*)](#verified-domains)\n",
    "- [Enterprise Applications](#enterprise-applications)\n",
    "  - [User Consent for Apps (*medium*)](#user-consent-for-apps)\n",
    "  - [Group Owner Consent (*medium*)](#group-owner-consent)\n",
    "  - [Application Owners (*high*)](#application-owners)\n",
    "- [Conditional Access Policies](#conditional-access-policies)\n",
    "  - [Block Legacy Protocols (*high*)](#block-legacy-protocols)\n",
    "  - [Require MFA for Administrators (*high*)](#require-mfa-for-administrators)\n",
    "  - [Require MFA for Azure Management (*high*)](#require-mfa-for-azure-management)\n",
    "  - [Restricted Locations (*medium*)](#restricted-locations)\n",
    "  - [Require devices to be marked as compliant (*high*)](#require-devices-to-be-marked-as-compliant)\n",
    "- [Password Reset](#password-reset)\n",
    "  - [Self-service password reset policy requirement](#self-service-password-reset-policy-requirement)\n",
    "  - [Re-confirm authentication information](#re-confirm-authentication-information)\n",
    "  - [Number of methods required to reset password](#number-of-methods-required-to-reset-password)"
   ]
  },
  {
   "cell_type": "markdown",
   "metadata": {},
   "source": [
    "# Initialization"
   ]
  },
  {
   "cell_type": "code",
   "execution_count": 1,
   "metadata": {
    "dotnet_interactive": {
     "language": "pwsh"
    },
    "polyglot_notebook": {
     "kernelName": "pwsh"
    }
   },
   "outputs": [],
   "source": [
    "# Run this to reset\n",
    "$TenantId = $null\n",
    "$Token = $null"
   ]
  },
  {
   "cell_type": "code",
   "execution_count": null,
   "metadata": {
    "dotnet_interactive": {
     "language": "pwsh"
    },
    "polyglot_notebook": {
     "kernelName": "pwsh"
    }
   },
   "outputs": [],
   "source": [
    "# load functions\n",
    "# Remove-Module -Name azure-security-review -Force -ErrorAction SilentlyContinue\n",
    "Import-Module \"..\\src\\powershell\\modules\\azure-security-review.psm1\"\n",
    "\n",
    "Initialize-Notebook"
   ]
  },
  {
   "cell_type": "code",
   "execution_count": null,
   "metadata": {
    "dotnet_interactive": {
     "language": "pwsh"
    },
    "polyglot_notebook": {
     "kernelName": "pwsh"
    }
   },
   "outputs": [],
   "source": [
    "# If you are having trouble with continous prompting try to run this (remove comments)\n",
    "\n",
    "# Disconnect-MgGraph\n",
    "# Connect-MgGraph"
   ]
  },
  {
   "cell_type": "markdown",
   "metadata": {},
   "source": [
    "# Users"
   ]
  },
  {
   "cell_type": "markdown",
   "metadata": {},
   "source": [
    "## User states\n",
    "\n",
    "Count the total number of users, disabled users, deleted users, and guest users."
   ]
  },
  {
   "cell_type": "code",
   "execution_count": null,
   "metadata": {
    "dotnet_interactive": {
     "language": "pwsh"
    },
    "polyglot_notebook": {
     "kernelName": "pwsh"
    }
   },
   "outputs": [],
   "source": [
    "Get-UserState -OutputToHost"
   ]
  },
  {
   "cell_type": "markdown",
   "metadata": {},
   "source": [
    "## Disabled Users\n",
    "\n",
    "Find disabled users with group memberships or roles or licenses assigned.\n",
    "\n",
    "Disabled users should not have roles or licenses assigned, and group memberships should at least be reviewed. "
   ]
  },
  {
   "cell_type": "code",
   "execution_count": null,
   "metadata": {
    "dotnet_interactive": {
     "language": "pwsh"
    },
    "polyglot_notebook": {
     "kernelName": "pwsh"
    }
   },
   "outputs": [],
   "source": [
    "Get-DisabledUser -IncludeLicenseDetails -OutputMarkdown"
   ]
  },
  {
   "cell_type": "code",
   "execution_count": null,
   "metadata": {
    "dotnet_interactive": {
     "language": "pwsh"
    },
    "polyglot_notebook": {
     "kernelName": "pwsh"
    }
   },
   "outputs": [],
   "source": [
    "Get-DisabledUser -IncludeGroupMemberships -OutputMarkdown"
   ]
  },
  {
   "cell_type": "markdown",
   "metadata": {},
   "source": [
    "# Privileged administration"
   ]
  },
  {
   "cell_type": "markdown",
   "metadata": {},
   "source": [
    "## Limit the number of Global Administrators to less than 5\n",
    "\n",
    "*Severity*: High\n",
    "\n",
    "*Guid*: 9e6efe9d-f28f-463b-9bff-b5080173e9fe\n",
    "\n",
    "[Entra ID best practice](https://learn.microsoft.com/en-us/azure/active-directory/roles/best-practices#5-limit-the-number-of-global-administrators-to-less-than-5)\n",
    "\n",
    "*As a best practice, Microsoft recommends that you assign the Global Administrator role to fewer than five people in your organization...*"
   ]
  },
  {
   "cell_type": "code",
   "execution_count": null,
   "metadata": {
    "dotnet_interactive": {
     "language": "pwsh"
    },
    "polyglot_notebook": {
     "kernelName": "pwsh"
    }
   },
   "outputs": [],
   "source": [
    "Global Administrators:\n",
    "Get-GlobalAdminstrator -OutputMarkdown"
   ]
  },
  {
   "cell_type": "markdown",
   "metadata": {},
   "source": [
    "## Synchronized accounts\n",
    "\n",
    "*Severity*: High\n",
    "\n",
    "*Guid*: 87791be1-1eb0-48ed-8003-ad9bcf241b99\n",
    "\n",
    "Do not synchronize accounts with the highest privilege access to on-premises resources as you synchronize your enterprise identity systems with cloud directories.\n",
    "\n",
    "If below list any users then `onPremisesSyncEnabled` is true (and their account is enabled). Those should have the role removed, and a cloud-only user created as a replacement.\n",
    "\n",
    "[Entra ID best practice](https://learn.microsoft.com/en-us/azure/security/fundamentals/identity-management-best-practices#centralize-identity-management)\n",
    "\n",
    "*Don’t synchronize accounts to Azure AD that have high privileges in your existing Active Directory instance...*"
   ]
  },
  {
   "cell_type": "code",
   "execution_count": null,
   "metadata": {
    "dotnet_interactive": {
     "language": "pwsh"
    },
    "polyglot_notebook": {
     "kernelName": "pwsh"
    }
   },
   "outputs": [],
   "source": [
    "Get-SynchronizedAccount -OutputMarkdown"
   ]
  },
  {
   "cell_type": "markdown",
   "metadata": {},
   "source": [
    "## Use groups for Entra ID role assignments\n",
    "\n",
    "*Work in Progress*\n",
    "\n",
    "For now we can check the *Membership* column in [Privileged Identity Management | Azure AD roles](https://portal.azure.com/?feature.msaljs=true#view/Microsoft_Azure_PIMCommon/ResourceMenuBlade/~/members/resourceId//resourceType/tenant/provider/aadroles)\n",
    "\n",
    "*Severity*: High\n",
    "\n",
    "*Guid*: e0d968d3-87f6-41fb-a4f9-d852f1673f4c\n",
    "\n",
    "[Best Practice: Use groups for Microsoft Entra role assignments and delegate the role assignment](https://learn.microsoft.com/en-us/azure/active-directory/roles/best-practices#7-use-groups-for-microsoft-entra-role-assignments-and-delegate-the-role-assignment)\n",
    "\n",
    "*If you have an external governance system that takes advantage of groups, then you should consider assigning roles to Microsoft Entra groups, instead of individual users....*\n"
   ]
  },
  {
   "cell_type": "code",
   "execution_count": null,
   "metadata": {
    "dotnet_interactive": {
     "language": "pwsh"
    },
    "polyglot_notebook": {
     "kernelName": "pwsh"
    }
   },
   "outputs": [],
   "source": [
    "Get-GroupsWithRoleAssignment -OutputMarkdown"
   ]
  },
  {
   "cell_type": "markdown",
   "metadata": {},
   "source": [
    "## PIM Alerts\n",
    "\n",
    "*Severity*: High\n",
    "\n",
    "*Guid*: N/A\n",
    "\n",
    "There should be no active alerts in PIM. If below identifies any active alerts go to [PIM alerts](https://portal.azure.com/#view/Microsoft_Azure_PIMCommon/ResourceMenuBlade/~/Alerts/resourceId//resourceType/tenant/provider/aadroles) for further details."
   ]
  },
  {
   "cell_type": "code",
   "execution_count": null,
   "metadata": {
    "dotnet_interactive": {
     "language": "pwsh"
    },
    "polyglot_notebook": {
     "kernelName": "pwsh"
    }
   },
   "outputs": [],
   "source": [
    "Get-PimAlert -OutputMarkdown"
   ]
  },
  {
   "cell_type": "markdown",
   "metadata": {},
   "source": [
    "We can also list affected principals. Note that in some cases there is no direct principal, ex. for the alert `NoMfaOnRoleActivationAlert`"
   ]
  },
  {
   "cell_type": "code",
   "execution_count": null,
   "metadata": {
    "dotnet_interactive": {
     "language": "pwsh"
    },
    "polyglot_notebook": {
     "kernelName": "pwsh"
    }
   },
   "outputs": [],
   "source": [
    "Get-PimAlertAffectedPrincipal -OutputMarkdown"
   ]
  },
  {
   "cell_type": "markdown",
   "metadata": {},
   "source": [
    "## Recurring access reviews\n",
    "\n",
    "*Severity*: High\n",
    "\n",
    "*Guid*: eae64d01-0d3a-4ae1-a89d-cc1c2ad3888f\n",
    "\n",
    "Configure recurring access reviews to revoke unneeded permissions over time.\n",
    "\n",
    "[Best Practice: Configure recurring access reviews to revoke unneeded permissions over time](https://learn.microsoft.com/en-us/azure/active-directory/roles/best-practices#4-configure-recurring-access-reviews-to-revoke-unneeded-permissions-over-time)\n",
    "\n",
    "If there are no access review definitions then there are no recurring access reviews."
   ]
  },
  {
   "cell_type": "code",
   "execution_count": null,
   "metadata": {
    "dotnet_interactive": {
     "language": "pwsh"
    },
    "polyglot_notebook": {
     "kernelName": "pwsh"
    }
   },
   "outputs": [],
   "source": [
    "Get-RecurringAccessReview"
   ]
  },
  {
   "cell_type": "markdown",
   "metadata": {},
   "source": [
    "## Access Reviews: Enabled for all groups\n",
    "\n",
    "*Severity*: Medium\n",
    "\n",
    "*Guid*: e6b4bed3-d5f3-4547-a134-7dc56028a71f\n",
    "\n",
    "[Plan a Microsoft Entra access reviews deployment](https://learn.microsoft.com/en-us/azure/active-directory/governance/deploy-access-reviews)"
   ]
  },
  {
   "cell_type": "markdown",
   "metadata": {},
   "source": [
    "## Apps and Owners Can Change All Group Membership\n",
    "\n",
    "*Work in Progress*\n",
    "\n",
    "Chad Cox: Group Membership changes to all groups, this script list every role and member (not pim eligible) with this capability , every application with the permission, and every owner of the application. Some of the permissions are to unified and some are to security. either way can you imagine if someone granted access to a group that gave them all kinds of access to teams sites or access to other cloud resources.\n",
    "\n",
    "https://www.linkedin.com/posts/chad-cox-194bb560_entraid-aad-azuread-activity-7093368251329495040-Ff9T\n",
    "\n",
    "https://github.com/chadmcox/Azure_Active_Directory/blob/master/Applications/get-AppsandOwnersCanChangeAllGroupMembership.ps1\n",
    "\n",
    "TODO: does not show the display name for Owners of relevant apps"
   ]
  },
  {
   "cell_type": "code",
   "execution_count": null,
   "metadata": {
    "dotnet_interactive": {
     "language": "pwsh"
    },
    "polyglot_notebook": {
     "kernelName": "pwsh"
    }
   },
   "outputs": [],
   "source": [
    "Test-AppOwnersChangeGroupMembership -OutputMarkdown"
   ]
  },
  {
   "cell_type": "markdown",
   "metadata": {},
   "source": [
    "## Avoid standing access for user accounts and permissions\n",
    "\n",
    "*Work in Progress*\n",
    "\n",
    "[MCSB: PA-2: Avoid standing access for user accounts and permissions](https://learn.microsoft.com/en-us/security/benchmark/azure/mcsb-privileged-access#pa-2-avoid-standing-access-for-user-accounts-and-permissions)"
   ]
  },
  {
   "cell_type": "code",
   "execution_count": null,
   "metadata": {
    "dotnet_interactive": {
     "language": "pwsh"
    },
    "polyglot_notebook": {
     "kernelName": "pwsh"
    }
   },
   "outputs": [],
   "source": [
    "Test-StandingAccess -OutputMarkdown -ShowProgress"
   ]
  },
  {
   "cell_type": "markdown",
   "metadata": {},
   "source": [
    "# External Identities"
   ]
  },
  {
   "cell_type": "markdown",
   "metadata": {},
   "source": [
    "## Guest invite settings\n",
    "\n",
    "*Severity*: High\n",
    "\n",
    "*Guid*: be64dd7d-f2e8-4bbb-a468-155abc9164e9\n",
    "\n",
    "External Collaboration Settings: Guest invite settings set to `'Only users assigned to specific admin roles can invite guest users'` or `'No one in the organization can invite guest users including admins (most restrictive)'`"
   ]
  },
  {
   "cell_type": "code",
   "execution_count": null,
   "metadata": {
    "dotnet_interactive": {
     "language": "pwsh"
    },
    "polyglot_notebook": {
     "kernelName": "pwsh"
    }
   },
   "outputs": [],
   "source": [
    "Test-GuestInviteSetting -OutputToHost"
   ]
  },
  {
   "cell_type": "markdown",
   "metadata": {},
   "source": [
    "## Guest user access restrictions\n",
    "\n",
    "*Work in Progress*\n",
    "\n",
    "*Severity*: High\n",
    "\n",
    "*Guid*: 459c373e-7ed7-4162-9b37-5a917ecbe48f\n",
    "\n",
    "External Collaboration Settings: Guest user access set to `'Guest user access is restricted to properties and memberships of their own directory objects (most restrictive)'`"
   ]
  },
  {
   "cell_type": "code",
   "execution_count": null,
   "metadata": {
    "dotnet_interactive": {
     "language": "pwsh"
    },
    "polyglot_notebook": {
     "kernelName": "pwsh"
    }
   },
   "outputs": [],
   "source": [
    "Test-GuestUserAccessRestriction"
   ]
  },
  {
   "cell_type": "markdown",
   "metadata": {},
   "source": [
    "# User Setting"
   ]
  },
  {
   "cell_type": "markdown",
   "metadata": {},
   "source": [
    "## User role permissions (Application registration)\n",
    "\n",
    "*Severity*: High\n",
    "\n",
    "*Guid*: a2cf2149-d013-4a92-9ce5-74dccbd8ac2a\n",
    "\n",
    "Users can register applications should be set to `No`.\n",
    "\n",
    "Users should not be allowed to register applications. Use specific roles such as `Application Developer`."
   ]
  },
  {
   "cell_type": "code",
   "execution_count": null,
   "metadata": {
    "dotnet_interactive": {
     "language": "pwsh"
    },
    "polyglot_notebook": {
     "kernelName": "pwsh"
    }
   },
   "outputs": [],
   "source": [
    "Test-UsersCanRegisterApplication -OutputToHost -ShowExplanation"
   ]
  },
  {
   "cell_type": "markdown",
   "metadata": {},
   "source": [
    "## Authentication Methods\n",
    "\n",
    "*Work in Progress*\n",
    "\n",
    "Check if authentication method policies are enabled or not\n",
    "\n",
    "check if migration has already been done, and if not, can we check if the methods in the different places are enabled in the policy"
   ]
  },
  {
   "cell_type": "code",
   "execution_count": null,
   "metadata": {
    "dotnet_interactive": {
     "language": "pwsh"
    },
    "polyglot_notebook": {
     "kernelName": "pwsh"
    }
   },
   "outputs": [],
   "source": [
    "Test-AuthenticationMethod"
   ]
  },
  {
   "cell_type": "markdown",
   "metadata": {},
   "source": [
    "# Custom Domains"
   ]
  },
  {
   "cell_type": "markdown",
   "metadata": {},
   "source": [
    "## Verified Domains\n",
    "\n",
    "*Severity*: High\n",
    "\n",
    "*Guid*: bade4aad-1e8c-439e-a946-667313c00567\n",
    "\n",
    "Only validated customer domains are registered"
   ]
  },
  {
   "cell_type": "code",
   "execution_count": null,
   "metadata": {
    "dotnet_interactive": {
     "language": "pwsh"
    },
    "polyglot_notebook": {
     "kernelName": "pwsh"
    }
   },
   "outputs": [],
   "source": [
    "Test-VerifiedDomain -OutputToHost -ShowExplanation"
   ]
  },
  {
   "cell_type": "markdown",
   "metadata": {},
   "source": [
    "# Enterprise Applications"
   ]
  },
  {
   "cell_type": "markdown",
   "metadata": {},
   "source": [
    "## User consent for apps\n",
    "\n",
    "*Severity*: Medium\n",
    "\n",
    "*Guid*: 459c373e-7ed7-4162-9b37-5a917ecbe48f\n",
    "\n",
    "Consent & Permissions: Allow user consent for apps from verified publishers\n",
    "\n",
    "[Configure how users consent to applications](https://learn.microsoft.com/en-us/azure/active-directory/manage-apps/configure-user-consent?pivots=ms-graph)"
   ]
  },
  {
   "cell_type": "code",
   "execution_count": null,
   "metadata": {
    "dotnet_interactive": {
     "language": "pwsh"
    },
    "polyglot_notebook": {
     "kernelName": "pwsh"
    }
   },
   "outputs": [],
   "source": [
    "Test-UserConsentForApp -OutputToHost -ShowExplanation"
   ]
  },
  {
   "cell_type": "markdown",
   "metadata": {},
   "source": [
    "##  Group Owner Consent\n",
    "\n",
    "*Work in Progress*\n",
    "\n",
    "*Severity*: Medium\n",
    "\n",
    "*Guid*: 909aed8c-44cf-43b2-a381-8bafa2cf2149\n",
    "\n",
    "Consent & Permissions: Allow group owner consent for selected group owners \n",
    "\n",
    "[Configure group owner consent to applications](https://learn.microsoft.com/en-us/azure/active-directory/manage-apps/configure-user-consent-groups?tabs=azure-portal)"
   ]
  },
  {
   "cell_type": "code",
   "execution_count": null,
   "metadata": {
    "dotnet_interactive": {
     "language": "pwsh"
    },
    "polyglot_notebook": {
     "kernelName": "pwsh"
    }
   },
   "outputs": [],
   "source": [
    "Test-GroupOwnerConsent -OutputToHost -ShowExplanation"
   ]
  },
  {
   "cell_type": "markdown",
   "metadata": {},
   "source": [
    "##  Application Owners\n",
    "\n",
    "*Severity*: High\n",
    "\n",
    "*Guid*: N/A\n",
    "\n",
    "MITRE ATT&CK tactics: [Persistence](https://attack.mitre.org/tactics/TA0003/), [Privilege Escalation](https://attack.mitre.org/tactics/TA0004/)\n",
    "\n",
    "Credit: [Chad Cox](https://github.com/chadmcox) / [Applications/get-BuiltinAPPOwners.ps1](https://github.com/chadmcox/Azure_Active_Directory/blob/master/Applications/get-BuiltinAPPOwners.ps1)\n",
    "\n",
    "Read here how these can be exploited: [Azure AD privilege escalation - Taking over default application permissions as Application Admin](https://dirkjanm.io/azure-ad-privilege-escalation-application-admin/) - Note that the Owner of the service principal can exploit this in the same way, hence why we look for owners.\n",
    "\n",
    "Below code snippets look for various applications that are at an increased risk from having owners. "
   ]
  },
  {
   "cell_type": "code",
   "execution_count": null,
   "metadata": {
    "dotnet_interactive": {
     "language": "pwsh"
    },
    "polyglot_notebook": {
     "kernelName": "pwsh"
    }
   },
   "outputs": [],
   "source": [
    "Find-OwnersFirstPartyMicrosoftApplication -OutputToHost -ShowExplanation"
   ]
  },
  {
   "cell_type": "markdown",
   "metadata": {},
   "source": [
    "Look for applications with application permission in Microsoft Graph and 1 or more owners assigned. Application permissions are often medium-high risk permissions."
   ]
  },
  {
   "cell_type": "code",
   "execution_count": null,
   "metadata": {
    "dotnet_interactive": {
     "language": "pwsh"
    },
    "polyglot_notebook": {
     "kernelName": "pwsh"
    }
   },
   "outputs": [],
   "source": [
    "Find-ApplicationsWithApplicationPermissionsAndOwner -OutputMarkdown -ShowExplanation"
   ]
  },
  {
   "cell_type": "markdown",
   "metadata": {},
   "source": [
    "Look for applications with owners and any resource access that we do not consider low-risk. The applications listed below is worth looking into."
   ]
  },
  {
   "cell_type": "code",
   "execution_count": null,
   "metadata": {
    "dotnet_interactive": {
     "language": "pwsh"
    },
    "polyglot_notebook": {
     "kernelName": "pwsh"
    }
   },
   "outputs": [],
   "source": [
    "Show-LowRiskApplicationPermission -ShowExplanation -OutputMarkdown"
   ]
  },
  {
   "cell_type": "code",
   "execution_count": null,
   "metadata": {
    "dotnet_interactive": {
     "language": "pwsh"
    },
    "polyglot_notebook": {
     "kernelName": "pwsh"
    }
   },
   "outputs": [],
   "source": [
    "Find-ApplicationsNonLowRiskPermissionsAndOwner -ShowExplanation -OutputMarkdown"
   ]
  },
  {
   "cell_type": "markdown",
   "metadata": {},
   "source": [
    "## Applications with privileged app role assignments\n",
    "\n",
    "All credit goes to [What's lurking in your Microsoft Graph app role assignments?](https://learningbydoing.cloud/blog/audit-ms-graph-app-role-assignments/)"
   ]
  },
  {
   "cell_type": "code",
   "execution_count": null,
   "metadata": {
    "dotnet_interactive": {
     "language": "pwsh"
    },
    "polyglot_notebook": {
     "kernelName": "pwsh"
    }
   },
   "outputs": [],
   "source": [
    "Get-PrivilegedAppRoleAssignment -OutputMarkdown"
   ]
  },
  {
   "cell_type": "markdown",
   "metadata": {},
   "source": [
    "# Conditional Access Policies"
   ]
  },
  {
   "cell_type": "markdown",
   "metadata": {},
   "source": [
    "## Block Legacy Protocols\n",
    "\n",
    "*Severity*: High\n",
    "\n",
    "*Guid*: 9e6efe9d-f28f-463b-9bff-b5080173e9fe\n",
    "\n",
    "[Common Conditional Access policy: Block legacy authentication](https://learn.microsoft.com/en-us/azure/active-directory/conditional-access/howto-conditional-access-policy-block-legacy)\n",
    "\n",
    "This policy, along with policies that enforce MFA are the most important to have. Legacy authentication will de-facto bypass MFA.\n",
    "\n",
    "Below looks for a conditional access policy that blocks legacy protocols and also outputs users excluded."
   ]
  },
  {
   "cell_type": "code",
   "execution_count": null,
   "metadata": {
    "dotnet_interactive": {
     "language": "pwsh"
    },
    "polyglot_notebook": {
     "kernelName": "pwsh"
    }
   },
   "outputs": [],
   "source": [
    "Test-ConditionalAccessPolicy -BlockLegacyProtocols"
   ]
  },
  {
   "cell_type": "markdown",
   "metadata": {},
   "source": [
    "## Require MFA for Administrators\n",
    "\n",
    "*Severity*: High\n",
    "\n",
    "*Guid*: fe1bd15d-d2f0-4d5e-972d-41e3611cc57b\n",
    "\n",
    "[Common Conditional Access policy: Require MFA for administrators](https://learn.microsoft.com/en-us/azure/active-directory/conditional-access/howto-conditional-access-policy-admin-mfa)\n",
    "\n",
    "Below looks for a conditional access policy that matches the policy template `\"Require multifactor authentication for admins\"`"
   ]
  },
  {
   "cell_type": "code",
   "execution_count": null,
   "metadata": {
    "dotnet_interactive": {
     "language": "pwsh"
    },
    "polyglot_notebook": {
     "kernelName": "pwsh"
    }
   },
   "outputs": [],
   "source": [
    "Test-ConditionalAccessPolicy -MfaAdministrators"
   ]
  },
  {
   "cell_type": "markdown",
   "metadata": {},
   "source": [
    "## Require MFA for Azure Management\n",
    "\n",
    "*Severity*: High\n",
    "\n",
    "*Guid*: 4a4b1410-d439-4589-ac22-89b3d6b57cfc\n",
    "\n",
    "[Common Conditional Access policy: Require MFA for Azure management](https://learn.microsoft.com/en-us/azure/active-directory/conditional-access/howto-conditional-access-policy-azure-management)\n",
    "\n",
    "Below looks for a conditional access policy that matches the policy template `\"Require multifactor authentication for Azure management\"`"
   ]
  },
  {
   "cell_type": "code",
   "execution_count": null,
   "metadata": {
    "dotnet_interactive": {
     "language": "pwsh"
    },
    "polyglot_notebook": {
     "kernelName": "pwsh"
    }
   },
   "outputs": [],
   "source": [
    "Test-ConditionalAccessPolicy -MfaAzureManagement"
   ]
  },
  {
   "cell_type": "markdown",
   "metadata": {},
   "source": [
    "## Restricted Locations\n",
    "\n",
    "*Severity*: Medium\n",
    "\n",
    "*Guid*: 079b588d-efc4-4972-ac3c-d21bf77036e5\n",
    "\n",
    "[Using the location condition in a Conditional Access policy](https://learn.microsoft.com/en-us/azure/active-directory/conditional-access/location-condition)\n",
    "\n",
    "Named locations can be used in numerous different way. A bad way to use them is to exclude from ex. enforcing MFA when coming from a `\"trusted location\"`. This does not conform to a `zero trust strategy`."
   ]
  },
  {
   "cell_type": "code",
   "execution_count": null,
   "metadata": {
    "dotnet_interactive": {
     "language": "pwsh"
    },
    "polyglot_notebook": {
     "kernelName": "pwsh"
    }
   },
   "outputs": [],
   "source": [
    "Test-ConditionalAccessPolicy -RestrictedLocations"
   ]
  },
  {
   "cell_type": "markdown",
   "metadata": {},
   "source": [
    "## Require devices to be marked as compliant\n",
    "\n",
    "*Severity*: High\n",
    "\n",
    "*Guid*: 7ae9eab4-0fd3-4290-998b-c178bdc5a06c\n",
    "\n",
    "[Require device to be marked as compliant](https://learn.microsoft.com/en-us/azure/active-directory/conditional-access/concept-conditional-access-grant#require-device-to-be-marked-as-compliant)\n",
    "\n",
    "Requiring devices to be marked as compliant in CA policy grants can be a powerful way of ensuring that connections are made from devices that are managed by the organization. With sufficiently strict device configurations enforced, this can be combined with MFA, or just a standalone grant."
   ]
  },
  {
   "cell_type": "code",
   "execution_count": null,
   "metadata": {
    "dotnet_interactive": {
     "language": "pwsh"
    },
    "polyglot_notebook": {
     "kernelName": "pwsh"
    }
   },
   "outputs": [],
   "source": [
    "Test-ConditionalAccessPolicy -DeviceCompliance"
   ]
  },
  {
   "cell_type": "markdown",
   "metadata": {},
   "source": [
    "## Protected Actions\n",
    "\n",
    "Use [Protected Actions](https://learn.microsoft.com/en-us/azure/active-directory/roles/protected-actions-overview) to enforce strong authentcation and other strict grant controls when performing highly privileged actions, like `Delete conditional access policies`."
   ]
  },
  {
   "cell_type": "code",
   "execution_count": null,
   "metadata": {
    "dotnet_interactive": {
     "language": "pwsh"
    },
    "polyglot_notebook": {
     "kernelName": "pwsh"
    }
   },
   "outputs": [],
   "source": [
    "Test-ProtectedAction"
   ]
  },
  {
   "cell_type": "markdown",
   "metadata": {},
   "source": [
    "## Break Glass/Emergency Accounts\n",
    "\n",
    "*Work in Progress*\n",
    "\n",
    "Count how many times all user objects are excluded from CA policies. If there is one with a high count this could be the emergency account(s)"
   ]
  },
  {
   "cell_type": "markdown",
   "metadata": {},
   "source": [
    "# Password Reset"
   ]
  },
  {
   "cell_type": "markdown",
   "metadata": {},
   "source": [
    "## Self-service password reset policy requirement\n",
    "\n",
    "*Work in Progress*\n",
    "\n",
    "*Severity*: High\n",
    "\n",
    "*Guid*: 4c1e945b-459c-4373-b7ed-71623b375a91"
   ]
  },
  {
   "cell_type": "markdown",
   "metadata": {},
   "source": [
    "## Re-confirm authentication information\n",
    "\n",
    "*Work in Progress*\n",
    "\n",
    "*Severity*: Medium\n",
    "\n",
    "*Guid*: 7ecbe48f-be64-4dd7-bf2e-8bbbc468155a"
   ]
  },
  {
   "cell_type": "markdown",
   "metadata": {},
   "source": [
    "## Number of methods required to reset password\n",
    "\n",
    "*Work in Progress*\n",
    "\n",
    "*Severity*: High\n",
    "\n",
    "*Guid*: bc9164e9-909a-4ed8-a44c-f3b2b3818baf"
   ]
  }
 ],
 "metadata": {
  "kernelspec": {
   "display_name": ".NET (C#)",
   "language": "C#",
   "name": ".net-csharp"
  },
  "language_info": {
   "name": "polyglot-notebook"
  },
  "polyglot_notebook": {
   "kernelInfo": {
    "defaultKernelName": "csharp",
    "items": [
     {
      "aliases": [],
      "name": "csharp"
     },
     {
      "aliases": [],
      "languageName": "pwsh",
      "name": "pwsh"
     }
    ]
   }
  }
 },
 "nbformat": 4,
 "nbformat_minor": 2
}
