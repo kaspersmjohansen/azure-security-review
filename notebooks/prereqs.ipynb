{
 "cells": [
  {
   "cell_type": "code",
   "execution_count": null,
   "metadata": {
    "dotnet_interactive": {
     "language": "pwsh"
    },
    "polyglot_notebook": {
     "kernelName": "pwsh"
    }
   },
   "outputs": [],
   "source": [
    "# Validate powershell modules - we do not check for every single MG module\n",
    "Import-Module Az.Accounts -ErrorAction Stop\n",
    "Write-Host \"Module 'Az.Accounts' imported!\"\n",
    "Import-Module Az.ResourceGraph -ErrorAction Stop\n",
    "Write-Host \"Module 'Az.ResourceGraph' imported!\"\n",
    "Import-Module Microsoft.Graph.Authentication -ErrorAction Stop\n",
    "Write-Host \"Module 'Microsoft.Graph.Authentication' imported successfully.`nListing available Microsoft Graph modules:`n\"\n",
    "Get-Module -ListAvailable | Where-Object {$_.Name -like \"Microsoft.Graph*\"} | Select-Object -Property Name, Version"
   ]
  },
  {
   "cell_type": "code",
   "execution_count": null,
   "metadata": {
    "dotnet_interactive": {
     "language": "pwsh"
    },
    "polyglot_notebook": {
     "kernelName": "pwsh"
    }
   },
   "outputs": [],
   "source": [
    "# set tenant id to check if we can login/connect\n",
    "$TenantId = ''\n",
    "\n",
    "Import-Module Az.Accounts\n",
    "\n",
    "# this may return a context but the next command still fails\n",
    "Set-AzContext -TenantId $TenantId -ErrorAction Stop\n",
    "# run a resource graph query\n",
    "$null = Search-AzGraph \"project id, name, type, location, tags\" -First 1\n",
    "\n",
    "# if Search-AzGraph then run Connect-AzAccount\n",
    "# Connect-AzAccount -TenantId $TenantId\n",
    "\n",
    "# checking if we can authenticate using Microsoft.Graph\n",
    "Connect-MgGraph -TenantId $TenantId -NoWelcome\n",
    "\n",
    "# NOTE: Many of the checks requires (a single) Entra ID P2 or Microsoft Entra ID Governance license. MS Graph API simply errors out if the tenant is not licensed with ex. Entra ID P2."
   ]
  }
 ],
 "metadata": {
  "kernelspec": {
   "display_name": ".NET (PowerShell)",
   "language": "PowerShell",
   "name": ".net-pwsh"
  },
  "language_info": {
   "name": "polyglot-notebook"
  },
  "polyglot_notebook": {
   "kernelInfo": {
    "defaultKernelName": "pwsh",
    "items": [
     {
      "aliases": [],
      "languageName": "pwsh",
      "name": "pwsh"
     }
    ]
   }
  }
 },
 "nbformat": 4,
 "nbformat_minor": 2
}
