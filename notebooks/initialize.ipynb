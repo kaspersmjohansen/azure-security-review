{
 "cells": [
  {
   "cell_type": "markdown",
   "metadata": {},
   "source": [
    "Set required variables in below code box."
   ]
  },
  {
   "cell_type": "code",
   "execution_count": 6,
   "metadata": {
    "dotnet_interactive": {
     "language": "pwsh"
    },
    "polyglot_notebook": {
     "kernelName": "pwsh"
    }
   },
   "outputs": [],
   "source": [
    "$TenantId = \"<TENANT_ID>\"\n",
    "$global:TenantId = $TenantId"
   ]
  },
  {
   "cell_type": "markdown",
   "metadata": {},
   "source": [
    "We need to make sure a few prequisite modules are installed\n",
    "\n",
    "- Az (Azure Powershell)\n",
    "- Az.ResourceGraph\n",
    "- Microsoft.Graph\n",
    "\n",
    "Note that `Microsoft.Graph` is a collection of many modules. We just check one of them.\n",
    "\n",
    "If there are multiple of the same modules listed then you have Microsoft.Graph modules installed in multiple places and possibly multiple different versions.\n",
    "\n",
    "I would suggest completely uninstalling and then install the necessary modules. Also beware if you are installing to PowerShell Desktop or Core, check `$PSVersionTable`.\n",
    "\n",
    "```powershell\n",
    "'Microsoft.Graph.Identity.DirectoryManagement', 'Microsoft.Graph.Authentication', 'Microsoft.Graph.Identity.SignIns' | % {Install-Module -Name $_ -Scope AllUsers -Force -Verbose}\n",
    "# need some additional commands from this module\n",
    "'Microsoft.Graph.Beta.Identity.SignIns' | % {Install-Module -Name $_ -Scope AllUsers -Force -Verbose -AllowClobber}\n",
    "```\n",
    "\n",
    "Note that this installation takes a while to complete.\n",
    "\n",
    "You can list the modules, versions and their install location using\n",
    "\n",
    "```powershell\n",
    "Get-Module -ListAvailable | Where-Object {$_.Name -like \"Microsoft.Graph*\"}\n",
    "```"
   ]
  },
  {
   "cell_type": "code",
   "execution_count": 11,
   "metadata": {
    "dotnet_interactive": {
     "language": "pwsh"
    },
    "polyglot_notebook": {
     "kernelName": "pwsh"
    }
   },
   "outputs": [
    {
     "name": "stdout",
     "output_type": "stream",
     "text": [
      "Module 'Az.Accounts' imported!\n",
      "Module 'Az.ResourceGraph' imported!\n",
      "Module 'Microsoft.Graph.Authentication' imported successfully.\n",
      "Listing available Microsoft Graph modules:\n",
      "\n",
      "\n",
      "\u001b[32;1mName                                              Version\u001b[0m\n",
      "\u001b[32;1m----                                              -------\u001b[0m\n",
      "Microsoft.Graph.Authentication                    2.1.0\n",
      "Microsoft.Graph.Beta.Identity.DirectoryManagement 2.1.0\n",
      "Microsoft.Graph.Identity.DirectoryManagement      2.1.0\n",
      "\n"
     ]
    }
   ],
   "source": [
    "Import-Module Az.Accounts -ErrorAction Stop\n",
    "Write-Host \"Module 'Az.Accounts' imported!\"\n",
    "Import-Module Az.ResourceGraph -ErrorAction Stop\n",
    "Write-Host \"Module 'Az.ResourceGraph' imported!\"\n",
    "Import-Module Microsoft.Graph.Authentication -ErrorAction Stop\n",
    "Write-Host \"Module 'Microsoft.Graph.Authentication' imported successfully.`nListing available Microsoft Graph modules:`n\"\n",
    "Get-Module -ListAvailable | Where-Object {$_.Name -like \"Microsoft.Graph*\"} | Select-Object -Property Name, Version"
   ]
  },
  {
   "cell_type": "code",
   "execution_count": 8,
   "metadata": {
    "dotnet_interactive": {
     "language": "pwsh"
    },
    "polyglot_notebook": {
     "kernelName": "pwsh"
    }
   },
   "outputs": [
    {
     "name": "stdout",
     "output_type": "stream",
     "text": [
      "\n",
      "\u001b[32;1mName                                     Account        SubscriptionNa Environment    TenantId\u001b[0m\n",
      "\u001b[32;1m                                                        me\u001b[0m\n",
      "\u001b[32;1m----                                     -------        -------------- -----------    --------\u001b[0m\n",
      "Sund og Bælt - Identity (388d897b-52e0-… aspx@sundogba… Sund og Bælt … AzureCloud     d268a0bf-7e1…\n",
      "Welcome To Microsoft Graph!\n",
      "\n"
     ]
    }
   ],
   "source": [
    "Import-Module Az.Accounts\n",
    "\n",
    "# this may return a context but the next command still fails\n",
    "Get-AzContext\n",
    "# run a resource graph query\n",
    "$null = Search-AzGraph \"project id, name, type, location, tags\" -First 1\n",
    "\n",
    "# if Search-AzGraph then run Connect-AzAccount\n",
    "# Connect-AzAccount -TenantId $TenantId\n",
    "\n",
    "# checking if we can authenticate using Microsoft.Graph\n",
    "Connect-MgGraph -TenantId $TenantId"
   ]
  },
  {
   "cell_type": "code",
   "execution_count": 9,
   "metadata": {
    "dotnet_interactive": {
     "language": "pwsh"
    },
    "polyglot_notebook": {
     "kernelName": "pwsh"
    }
   },
   "outputs": [
    {
     "data": {
      "text/plain": []
     },
     "metadata": {},
     "output_type": "display_data"
    }
   ],
   "source": [
    "$CheckListUrl = 'https://raw.githubusercontent.com/Azure/review-checklists/main/checklists/appsvc_security_checklist.en.json'\n",
    "$appsvcSecurityChecklist = Invoke-WebRequest -Uri $CheckListUrl | Select-Object -ExpandProperty Content | ConvertFrom-Json | Select-Object -ExpandProperty items\n",
    "\n",
    "# set debug mode to true to get additional output\n",
    "$DebugMode = $false"
   ]
  }
 ],
 "metadata": {
  "kernelspec": {
   "display_name": ".NET (PowerShell)",
   "language": "PowerShell",
   "name": ".net-pwsh"
  },
  "language_info": {
   "name": "polyglot-notebook"
  },
  "polyglot_notebook": {
   "kernelInfo": {
    "defaultKernelName": "pwsh",
    "items": [
     {
      "aliases": [],
      "languageName": "pwsh",
      "name": "pwsh"
     }
    ]
   }
  }
 },
 "nbformat": 4,
 "nbformat_minor": 2
}
