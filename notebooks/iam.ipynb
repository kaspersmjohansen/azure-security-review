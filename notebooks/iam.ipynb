{
 "cells": [
  {
   "cell_type": "markdown",
   "metadata": {},
   "source": [
    "# Initialization"
   ]
  },
  {
   "cell_type": "code",
   "execution_count": null,
   "metadata": {
    "dotnet_interactive": {
     "language": "pwsh"
    },
    "polyglot_notebook": {
     "kernelName": "pwsh"
    }
   },
   "outputs": [],
   "source": [
    "$TenantId = $global:TenantId\n",
    "# connect once for all necessary scopes for this notebook\n",
    "# Disconnect-Graph\n",
    "$null = Connect-MgGraph -Scopes \"Directory.AccessAsUser.All\", \"Policy.Read.All\", \"RoleManagement.ReadWrite.Directory\", \"RoleManagementAlert.Read.Directory\", \"AccessReview.Read.All\" -TenantId $TenantId -ErrorAction Stop\n",
    "\n",
    "# load functions\n",
    ". \"..\\src\\functions.ps1\""
   ]
  },
  {
   "cell_type": "markdown",
   "metadata": {},
   "source": [
    "# Privileged administration"
   ]
  },
  {
   "cell_type": "markdown",
   "metadata": {},
   "source": [
    "## Limit the number of Global Administrators to less than 5\n",
    "\n",
    "*Severity*: High\n",
    "\n",
    "*Guid*: 9e6efe9d-f28f-463b-9bff-b5080173e9fe"
   ]
  },
  {
   "cell_type": "code",
   "execution_count": null,
   "metadata": {
    "dotnet_interactive": {
     "language": "pwsh"
    },
    "polyglot_notebook": {
     "kernelName": "pwsh"
    }
   },
   "outputs": [],
   "source": [
    "$Setting = Get-EntraIdRoleAssignment -RoleName \"Global Administrator\"\n",
    "$Compliant = $Setting.Count -lt 5\n",
    "\n",
    "if($Compliant)\n",
    "{\n",
    "    Write-Host \"Compliant to control; there are $($Setting.Count) Global Administrators (Assigned and Eligeble)\" -ForegroundColor Green\n",
    "}\n",
    "else {\n",
    "    Write-Host \"Not compliant to control; there are $($Setting.Count) Global Administrators (Assigned and Eligeble)\" -ForegroundColor Red\n",
    "}\n",
    "\n",
    "Write-Host \"`nGlobal Administrators:`n\"\n",
    "$Setting | Select-Object -Property Id, @{ Name = 'displayName'; Expression = { $_.AdditionalProperties.displayName } }, @{ Name = 'userPrincipalName'; Expression = { $_.AdditionalProperties.userPrincipalName } } | Format-Table -AutoSize\n"
   ]
  },
  {
   "cell_type": "markdown",
   "metadata": {},
   "source": [
    "## Use groups for Azure AD role assignments (WiP)\n",
    "\n",
    "*Severity*: High\n",
    "\n",
    "*Guid*: e0d968d3-87f6-41fb-a4f9-d852f1673f4c\n",
    "\n",
    "[Best Practice: Use groups for Azure AD role assignments and delegate the role assignment](https://learn.microsoft.com/en-us/azure/active-directory/roles/best-practices#6-use-groups-for-azure-ad-role-assignments-and-delegate-the-role-assignment)\n"
   ]
  },
  {
   "cell_type": "code",
   "execution_count": null,
   "metadata": {
    "dotnet_interactive": {
     "language": "pwsh"
    },
    "polyglot_notebook": {
     "kernelName": "pwsh"
    }
   },
   "outputs": [],
   "source": [
    "$RoleName = \"Global Administrator\"\n",
    "\n",
    "# Get the directory role id for $RoleName\n",
    "$DirectoryRoleId = Get-MgDirectoryRole -Filter \"DisplayName eq '$RoleName'\" | Select-Object -ExpandProperty Id\n",
    "# Get currently assigned\n",
    "$Assigned = Get-MgDirectoryRoleMember -DirectoryRoleId $DirectoryRoleId | Select-Object -ExpandProperty Id\n",
    "\n",
    "# TODO: $Assigned includes eligeble that have activated the role, but does not provide any details. we need to kow the 'state' and if it is activated we can disregard\n",
    "\n",
    "# Get the role definition id for $RoleName\n",
    "$DirectoryRoleDefinitionId = Get-MgBetaRoleManagementDirectoryRoleDefinition -Filter \"DisplayName eq '$RoleName'\" -Property \"id\" | Select-Object -ExpandProperty Id\n",
    "# get principals that are eligble for GA\n",
    "$EligeblePrincipals = Get-MgBetaRoleManagementDirectoryRoleEligibilityScheduleInstance -Filter \"roleDefinitionId eq '$DirectoryRoleDefinitionId'\" | Select-Object -ExpandProperty PrincipalId\n",
    "\n",
    "$DirectoryObjectByIds = $EligeblePrincipals # + $Assigned\n",
    "\n",
    "$params = @{\n",
    "    ids   = $DirectoryObjectByIds\n",
    "    types = @(\n",
    "        \"user\"\n",
    "        \"group\"\n",
    "    )\n",
    "}\n",
    "\n",
    "$DirectoryObject = Get-MgDirectoryObjectById -BodyParameter $params\n",
    "\n",
    "$DirectoryObject | Select-Object Id, @{ Name = 'displayName'; Expression = { $_.AdditionalProperties.displayName } }, @{ Name = 'type'; Expression = { $_.AdditionalProperties.'@odata.type'.split('.') | Select-Object -Last 1 } }"
   ]
  },
  {
   "cell_type": "markdown",
   "metadata": {},
   "source": [
    "## PIM Alerts\n",
    "\n",
    "*Severity*: High\n",
    "\n",
    "*Guid*: N/A\n",
    "\n",
    "There should be no active alerts in PIM. If below identifies any active alerts go to [PIM alerts](https://portal.azure.com/#view/Microsoft_Azure_PIMCommon/ResourceMenuBlade/~/Alerts/resourceId//resourceType/tenant/provider/aadroles) for further details."
   ]
  },
  {
   "cell_type": "code",
   "execution_count": null,
   "metadata": {
    "dotnet_interactive": {
     "language": "pwsh"
    },
    "polyglot_notebook": {
     "kernelName": "pwsh"
    }
   },
   "outputs": [],
   "source": [
    "$GovernanceRoleManagementAlerts = Get-MgBetaIdentityGovernanceRoleManagementAlert -Filter \"scopeId eq '/' and scopeType eq 'DirectoryRole' and isActive eq true\" -ExpandProperty \"alertDefinition,alertConfiguration,alertIncidents\"\n",
    "\n",
    "$GovernanceRoleManagementAlerts | Select-Object -Property @{ Name = 'Alert'; Expression = { $_.alertDefinition.displayName } }, IncidentCount"
   ]
  },
  {
   "cell_type": "markdown",
   "metadata": {},
   "source": [
    "We can also list affected principals. Note that in some cases there is no direct principal, ex. for the alert `NoMfaOnRoleActivationAlert`"
   ]
  },
  {
   "cell_type": "code",
   "execution_count": null,
   "metadata": {
    "dotnet_interactive": {
     "language": "pwsh"
    },
    "polyglot_notebook": {
     "kernelName": "pwsh"
    }
   },
   "outputs": [],
   "source": [
    "$GovernanceRoleManagementAlerts = Get-MgBetaIdentityGovernanceRoleManagementAlert -Filter \"scopeId eq '/' and scopeType eq 'DirectoryRole' and isActive eq true\" -ExpandProperty \"alertDefinition,alertConfiguration,alertIncidents\"\n",
    "\n",
    "$GovernanceRoleManagementAlerts.alertIncidents.AdditionalProperties | Where-Object { $_.assigneeUserPrincipalName } | ForEach-Object {\n",
    "    $_ | Select-Object -Property @{ Name = 'Role'; Expression = { $_.roleDisplayName } }, @{ Name = 'User'; Expression = { \"$($_.assigneeDisplayName) ($($_.assigneeUserPrincipalName))\" } }\n",
    "}"
   ]
  },
  {
   "cell_type": "markdown",
   "metadata": {},
   "source": [
    "## Recurring access reviews\n",
    "\n",
    "*Severity*: High\n",
    "\n",
    "*Guid*: eae64d01-0d3a-4ae1-a89d-cc1c2ad3888f\n",
    "\n",
    "Configure recurring access reviews to revoke unneeded permissions over time.\n",
    "\n",
    "[Best Practice: Configure recurring access reviews to revoke unneeded permissions over time](https://learn.microsoft.com/en-us/azure/active-directory/roles/best-practices#4-configure-recurring-access-reviews-to-revoke-unneeded-permissions-over-time)\n",
    "\n",
    "If there are no access review definitions then there are no recurring access reviews."
   ]
  },
  {
   "cell_type": "code",
   "execution_count": null,
   "metadata": {
    "dotnet_interactive": {
     "language": "pwsh"
    },
    "polyglot_notebook": {
     "kernelName": "pwsh"
    }
   },
   "outputs": [],
   "source": [
    "$AccessReviewDefinitions = Get-MgBetaIdentityGovernanceAccessReviewDefinition\n",
    "\n",
    "Write-Host \"Access review definitions: $(($AccessReviewDefinitions | Measure-Object).Count)\""
   ]
  },
  {
   "cell_type": "markdown",
   "metadata": {},
   "source": [
    "## Access Reviews: Enabled for all groups\n",
    "\n",
    "*Severity*: Medium\n",
    "\n",
    "*Guid*: e6b4bed3-d5f3-4547-a134-7dc56028a71f\n",
    "\n",
    "[Plan a Microsoft Entra access reviews deployment](https://learn.microsoft.com/en-us/azure/active-directory/governance/deploy-access-reviews)"
   ]
  },
  {
   "cell_type": "markdown",
   "metadata": {},
   "source": [
    "# External Identities"
   ]
  },
  {
   "cell_type": "markdown",
   "metadata": {},
   "source": [
    "## Guest invite settings\n",
    "\n",
    "*Severity*: High\n",
    "\n",
    "*Guid*: be64dd7d-f2e8-4bbb-a468-155abc9164e9\n",
    "\n",
    "External Collaboration Settings: Guest invite settings set to `'Only users assigned to specific admin roles can invite guest users'` or `'No one in the organization can invite guest users including admins (most restrictive)'`"
   ]
  },
  {
   "cell_type": "code",
   "execution_count": null,
   "metadata": {
    "dotnet_interactive": {
     "language": "pwsh"
    },
    "polyglot_notebook": {
     "kernelName": "pwsh"
    }
   },
   "outputs": [],
   "source": [
    "$AuthorizationPolicy = Get-MgPolicyAuthorizationPolicy\n",
    "\n",
    "$Setting = $AuthorizationPolicy.AllowInvitesFrom\n",
    "$Compliant = $Setting -in 'adminsAndGuestInviters', 'none'\n",
    "\n",
    "if($Compliant)\n",
    "{\n",
    "    Write-Host \"Compliant to control, setting is $($Setting)\" -ForegroundColor Green\n",
    "}\n",
    "else {\n",
    "    Write-Host \"Not compliant to control, setting is $($Setting)\" -ForegroundColor Red\n",
    "}"
   ]
  },
  {
   "cell_type": "markdown",
   "metadata": {},
   "source": [
    "## Guest user access restrictions\n",
    "\n",
    "*Severity*: High\n",
    "\n",
    "*Guid*: 459c373e-7ed7-4162-9b37-5a917ecbe48f\n",
    "\n",
    "External Collaboration Settings: Guest user access set to `'Guest user access is restricted to properties and memberships of their own directory objects (most restrictive)'`"
   ]
  },
  {
   "cell_type": "code",
   "execution_count": null,
   "metadata": {
    "dotnet_interactive": {
     "language": "pwsh"
    },
    "polyglot_notebook": {
     "kernelName": "pwsh"
    }
   },
   "outputs": [],
   "source": [
    "# TODO: does not say anything about guest user access....\n",
    "\n",
    "$ExternalIdentityPolicy = Get-MgBetaPolicyExternalIdentityPolicy #-ExpandProperty \"AdditionalProperties\"\n",
    "\n",
    "# $ExternalIdentityPolicy | fl *\n",
    "# $ExternalIdentityPolicy.AdditionalProperties | fl *\n",
    "\n"
   ]
  },
  {
   "cell_type": "markdown",
   "metadata": {},
   "source": [
    "# User Setting"
   ]
  },
  {
   "cell_type": "markdown",
   "metadata": {},
   "source": [
    "## User role permissions (Application registration)\n",
    "\n",
    "*Severity*: High\n",
    "\n",
    "*Guid*: a2cf2149-d013-4a92-9ce5-74dccbd8ac2a\n",
    "\n",
    "Users can register applications should be set to `No`.\n",
    "\n",
    "Users should not be allowed to register applications. Use specific roles such as `Application Developer`."
   ]
  },
  {
   "cell_type": "code",
   "execution_count": null,
   "metadata": {
    "dotnet_interactive": {
     "language": "pwsh"
    },
    "polyglot_notebook": {
     "kernelName": "pwsh"
    }
   },
   "outputs": [],
   "source": [
    "$AuthorizationPolicy = Get-MgPolicyAuthorizationPolicy -Property \"DefaultUserRolePermissions\"\n",
    "\n",
    "$Setting = $AuthorizationPolicy.DefaultUserRolePermissions.AllowedToCreateApps\n",
    "$Compliant = $Setting -eq $false\n",
    "\n",
    "if($Compliant)\n",
    "{\n",
    "    Write-Host \"Compliant to control; users are not allowed to create applications\" -ForegroundColor Green\n",
    "}\n",
    "else {\n",
    "    Write-Host \"Not compliant to control; users are allowed to create applications\" -ForegroundColor Red\n",
    "}"
   ]
  },
  {
   "cell_type": "markdown",
   "metadata": {},
   "source": [
    "# Custom Domains"
   ]
  },
  {
   "cell_type": "markdown",
   "metadata": {},
   "source": [
    "## Verified Domains\n",
    "\n",
    "*Severity*: High\n",
    "\n",
    "*Guid*: bade4aad-1e8c-439e-a946-667313c00567\n",
    "\n",
    "Only validated customer domains are registered"
   ]
  },
  {
   "cell_type": "code",
   "execution_count": null,
   "metadata": {
    "dotnet_interactive": {
     "language": "pwsh"
    },
    "polyglot_notebook": {
     "kernelName": "pwsh"
    }
   },
   "outputs": [],
   "source": [
    "$Domains = Get-MgBetaDomain\n",
    "\n",
    "$UnverifiedDomains = $Domains | Where-Object {-not $_.IsVerified}\n",
    "\n",
    "$Setting = $UnverifiedDomains\n",
    "$Compliant = $Setting.Count -eq 0\n",
    "\n",
    "if($Compliant)\n",
    "{\n",
    "    Write-Host \"Compliant to control; All domains are verified\" -ForegroundColor Green\n",
    "}\n",
    "else {\n",
    "    Write-Host \"Not compliant to control; There are unverified domains registered: $($Setting | Select-Object -ExpandProperty Id)\" -ForegroundColor Red\n",
    "}"
   ]
  },
  {
   "cell_type": "markdown",
   "metadata": {},
   "source": [
    "# Enterprise Applications"
   ]
  },
  {
   "cell_type": "markdown",
   "metadata": {},
   "source": [
    "##  User consent for apps\n",
    "\n",
    "*Severity*: Medium\n",
    "\n",
    "*Guid*: 459c373e-7ed7-4162-9b37-5a917ecbe48f\n",
    "\n",
    "Consent & Permissions: Allow user consent for apps from verified publishers\n",
    "\n",
    "[Configure how users consent to applications](https://learn.microsoft.com/en-us/azure/active-directory/manage-apps/configure-user-consent?pivots=ms-graph)"
   ]
  },
  {
   "cell_type": "code",
   "execution_count": null,
   "metadata": {
    "dotnet_interactive": {
     "language": "pwsh"
    },
    "polyglot_notebook": {
     "kernelName": "pwsh"
    }
   },
   "outputs": [],
   "source": [
    "$PolicyAuthorization = Get-MgPolicyAuthorizationPolicy #-ExpandProperty defaultUserRolePermissions\n",
    "$permissionGrantPoliciesAssigned = $PolicyAuthorization.DefaultUserRolePermissions.permissionGrantPoliciesAssigned\n",
    "\n",
    "$Setting = $permissionGrantPoliciesAssigned\n",
    "$Compliant = $Setting[0] -ne \"ManagePermissionGrantsForSelf.microsoft-user-default-legacy\"\n",
    "\n",
    "if($Compliant)\n",
    "{\n",
    "    Write-Host \"Compliant to control; users are only allowed to consent to apps from verified publishers or not consent at all.\" -ForegroundColor Green\n",
    "}\n",
    "else {\n",
    "    Write-Host \"Not compliant to control; users are allowed to consent to all applications.\" -ForegroundColor Red\n",
    "}"
   ]
  },
  {
   "cell_type": "markdown",
   "metadata": {},
   "source": [
    "##  group owner consent\n",
    "\n",
    "*Severity*: Medium\n",
    "\n",
    "*Guid*: 909aed8c-44cf-43b2-a381-8bafa2cf2149\n",
    "\n",
    "Consent & Permissions: Allow group owner consent for selected group owners \n",
    "\n",
    "[Configure group owner consent to applications](https://learn.microsoft.com/en-us/azure/active-directory/manage-apps/configure-user-consent-groups?tabs=azure-portal)"
   ]
  },
  {
   "cell_type": "code",
   "execution_count": null,
   "metadata": {
    "dotnet_interactive": {
     "language": "pwsh"
    },
    "polyglot_notebook": {
     "kernelName": "pwsh"
    }
   },
   "outputs": [],
   "source": [
    "# TODO - example is using AzureADPreview module and we would like to stick to MS Graph"
   ]
  },
  {
   "cell_type": "markdown",
   "metadata": {},
   "source": [
    "# Conditional Access Policies"
   ]
  },
  {
   "cell_type": "markdown",
   "metadata": {},
   "source": [
    "## Block Legacy Protocols\n",
    "\n",
    "*Severity*: High\n",
    "\n",
    "*Guid*: 9e6efe9d-f28f-463b-9bff-b5080173e9fe\n",
    "\n",
    "[Common Conditional Access policy: Block legacy authentication](https://learn.microsoft.com/en-us/azure/active-directory/conditional-access/howto-conditional-access-policy-block-legacy)\n",
    "\n",
    "Below looks for a conditional access policy that blocks legacy protocols and also outputs users excluded."
   ]
  },
  {
   "cell_type": "code",
   "execution_count": null,
   "metadata": {
    "dotnet_interactive": {
     "language": "pwsh"
    },
    "polyglot_notebook": {
     "kernelName": "pwsh"
    }
   },
   "outputs": [],
   "source": [
    "# we are looking for a policy that is enabled, the control is block, includes all users, and condition is legacy clients\n",
    "$Filter = \"state eq 'enabled' and grantControls/builtInControls/all(i:i eq 'block') and conditions/users/includeUsers/all(i:i eq 'All') and conditions/clientAppTypes/all(i:i eq 'exchangeActiveSync' or i eq 'other')\"\n",
    "$BlockLegacyProtocolPolicy = Get-MgIdentityConditionalAccessPolicy -Filter $Filter\n",
    "\n",
    "# $BlockLegacyProtocolPolicy | Select-Object -Property DisplayName, Id\n",
    "\n",
    "$ExcludeUsers = $BlockLegacyProtocolPolicy.Conditions.Users.ExcludeUsers\n",
    "$ExcludeGroups = $BlockLegacyProtocolPolicy.Conditions.Users.ExcludeGroups\n",
    "$ExcludeGuestsOrExternalUsers = $BlockLegacyProtocolPolicy.Conditions.Users.ExcludeGuestsOrExternalUsers\n",
    "\n",
    "# TODO:\n",
    "# $ExcludeGroups\n",
    "# $ExcludeGuestsOrExternalUsers\n",
    "\n",
    "$Compliant = $null -ne $BlockLegacyProtocolPolicy -and $BlockLegacyProtocolPolicy.Count -gt 0\n",
    "\n",
    "if($Compliant)\n",
    "{\n",
    "    Write-Host \"Compliant to control; CA Policy found blocking legacy protocols\" -ForegroundColor Green\n",
    "}\n",
    "else {\n",
    "    Write-Host \"Not compliant to control; No valid CA Policy found blocking legacy protocols\" -ForegroundColor Red\n",
    "}\n",
    "\n",
    "$ExcludeUsers | ForEach-Object {\n",
    "    $ExcludedUser = Get-MgUser -Filter \"id eq '$_'\"\n",
    "    Write-Host \"Excluded user: $($ExcludedUser.DisplayName) ($($ExcludedUser.UserPrincipalName))\"\n",
    "}"
   ]
  }
 ],
 "metadata": {
  "kernelspec": {
   "display_name": ".NET (C#)",
   "language": "C#",
   "name": ".net-csharp"
  },
  "language_info": {
   "name": "polyglot-notebook"
  },
  "polyglot_notebook": {
   "kernelInfo": {
    "defaultKernelName": "csharp",
    "items": [
     {
      "aliases": [],
      "name": "csharp"
     },
     {
      "aliases": [],
      "languageName": "pwsh",
      "name": "pwsh"
     }
    ]
   }
  }
 },
 "nbformat": 4,
 "nbformat_minor": 2
}
