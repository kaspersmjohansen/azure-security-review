{
 "cells": [
  {
   "cell_type": "markdown",
   "metadata": {},
   "source": [
    "# Contents\n",
    "\n",
    "- [Privileged administration](#privileged-administration)\n",
    "  - [Limit the number of Global Administrators to less than 5 (*high*)](##limit-the-number-of-global-administrators-to-less-than-5)\n",
    "  - [Synchronized accounts (*high*)](##synchronized-accounts)\n",
    "  - [Use groups for Azure AD role assignments (*high*)](##use-groups-for-azure-ad-role-assignments)\n",
    "  - [PIM Alerts (*high*)](##pim-alerts)\n",
    "  - [Recurring access reviews (*high*)](##recurring-access-reviews)\n",
    "  - [Access Reviews: Enabled for all groups (*high*)](##access-reviews:-enabled-for-all-groups)\n",
    "  - [Apps and Owners Can Change All Group Membership](##apps-and-owners-can-change-all-group-membership)\n",
    "- [External Identities](#external-identities)\n",
    "  - [Guest Invite Settings (*high*)](##guest-invite-settings)\n",
    "  - [Guest User Access Restrictions (*high*)](##guest-user-access-restrictions)\n",
    "- [User Setting](#user-setting)\n",
    "  - [User role permissions (Application registration) (*high*)](##user-role-permissions-application-registration)\n",
    "- [Custom Domains](#custom-domains)\n",
    "  - [Verified Domains (*high*)](##verified-domains)\n",
    "- [Enterprise Applications](#enterprise-applications)\n",
    "  - [User Consent for Apps (*medium*)](##user-consent-for-apps)\n",
    "  - [Group Owner Consent (*medium*)](##group-owner-consent)\n",
    "  - [Application Owners (*high*)](##application-owners)\n",
    "- [Conditional Access Policies (*high*)](#conditional-access-policies)\n",
    "  - [Block Legacy Protocols (*high*)](##block-legacy-protocols)\n",
    "  - [Require MFA for Administrators (*high*)](##require-mfa-for-administrators)\n",
    "  - [Require MFA for Azure Management (*high*)](##require-mfa-for-azure-management)\n",
    "  - [Restricted Locations (*medium*)](##restricted-locations)\n",
    "  - [Require devices to be marked as compliant (*high*)](##require-devices-to-be-marked-as-compliant)"
   ]
  },
  {
   "cell_type": "markdown",
   "metadata": {},
   "source": [
    "# Initialization"
   ]
  },
  {
   "cell_type": "code",
   "execution_count": null,
   "metadata": {
    "dotnet_interactive": {
     "language": "pwsh"
    },
    "polyglot_notebook": {
     "kernelName": "pwsh"
    }
   },
   "outputs": [],
   "source": [
    "# 8ed476fd-17af-4e67-bfee-9ddc23573f9d is my demo tenant\n",
    "$TenantId = '8ed476fd-17af-4e67-bfee-9ddc23573f9d' #\"<TENANT_ID>\"\n",
    "\n",
    "# connect once for all necessary scopes for this notebook - these are delegated permissions so we cannot do something the authenticated user could not already do!\n",
    "# Disconnect-Graph\n",
    "# TODO: use Get-MgContext to check if we need to connect again\n",
    "# NOTE: Never request a write scope!\n",
    "$Scopes = \"Directory.AccessAsUser.All\", \"Policy.Read.All\", \"RoleManagement.ReadWrite.Directory\", \"RoleManagementAlert.Read.Directory\", \"AccessReview.Read.All\", \"Application.Read.All\", \"Directory.Read.All\"\n",
    "$null = Connect-MgGraph -Scopes $Scopes -TenantId $TenantId -ErrorAction Stop\n",
    "\n",
    "Write-Host \"Connected to tenant '$TenantId' with the following scope: $Scopes\"\n",
    "\n",
    "# load functions\n",
    ". \"..\\src\\functions.ps1\""
   ]
  },
  {
   "cell_type": "markdown",
   "metadata": {},
   "source": [
    "# Privileged administration"
   ]
  },
  {
   "cell_type": "markdown",
   "metadata": {},
   "source": [
    "## Limit the number of Global Administrators to less than 5\n",
    "\n",
    "*Severity*: High\n",
    "\n",
    "*Guid*: 9e6efe9d-f28f-463b-9bff-b5080173e9fe\n",
    "\n",
    "[Entra ID best practice](https://learn.microsoft.com/en-us/azure/active-directory/roles/best-practices#5-limit-the-number-of-global-administrators-to-less-than-5)\n",
    "\n",
    "*As a best practice, Microsoft recommends that you assign the Global Administrator role to fewer than five people in your organization...*"
   ]
  },
  {
   "cell_type": "code",
   "execution_count": null,
   "metadata": {
    "dotnet_interactive": {
     "language": "pwsh"
    },
    "polyglot_notebook": {
     "kernelName": "pwsh"
    }
   },
   "outputs": [],
   "source": [
    "$Setting = Get-EntraIdRoleAssignment -RoleName \"Global Administrator\"\n",
    "$Compliant = $Setting.Count -lt 5\n",
    "\n",
    "if($Compliant)\n",
    "{\n",
    "    Write-Host \"Compliant to control; there are $($Setting.Count) Global Administrators (Assigned and Eligeble)\" -ForegroundColor Green\n",
    "}\n",
    "else {\n",
    "    Write-Host \"Not compliant to control; there are $($Setting.Count) Global Administrators (Assigned and Eligeble)\" -ForegroundColor Red\n",
    "}\n",
    "\n",
    "Write-Host \"`nGlobal Administrators:`n\"\n",
    "$Setting | Select-Object -Property Id, @{ Name = 'displayName'; Expression = { $_.AdditionalProperties.displayName } }, @{ Name = 'userPrincipalName'; Expression = { $_.AdditionalProperties.userPrincipalName } } | Format-Table -AutoSize\n"
   ]
  },
  {
   "cell_type": "markdown",
   "metadata": {},
   "source": [
    "## Synchronized accounts\n",
    "\n",
    "*Severity*: High\n",
    "\n",
    "*Guid*: 87791be1-1eb0-48ed-8003-ad9bcf241b99\n",
    "\n",
    "Do not synchronize accounts with the highest privilege access to on-premises resources as you synchronize your enterprise identity systems with cloud directories.\n",
    "\n",
    "If below list any users then `onPremisesSyncEnabled` is true (and their account is enabled). Those should have the role removed, and a cloud-only user created as a replacement.\n",
    "\n",
    "[Entra ID best practice](https://learn.microsoft.com/en-us/azure/security/fundamentals/identity-management-best-practices#centralize-identity-management)\n",
    "\n",
    "*Don’t synchronize accounts to Azure AD that have high privileges in your existing Active Directory instance...*"
   ]
  },
  {
   "cell_type": "code",
   "execution_count": null,
   "metadata": {
    "dotnet_interactive": {
     "language": "pwsh"
    },
    "polyglot_notebook": {
     "kernelName": "pwsh"
    }
   },
   "outputs": [],
   "source": [
    "$PrivilegedRolesList = @('62e90394-69f5-4237-9190-012177145e10','194ae4cb-b126-40b2-bd5b-6091b380977d','f28a1f50-f6e7-4571-818b-6a12f2af6b6c','29232cdf-9323-42fd-ade2-1d097af3e4de','b1be1c3e-b65d-4f19-8427-f6fa0d97feb9','729827e3-9c14-49f7-bb1b-9608f156bbb8','b0f54661-2d74-4c50-afa3-1ec803f12efe','fe930be7-5e62-47db-91af-98c3a49a38b1','c4e39bd9-1100-46d3-8c65-fb160da0071f','9b895d92-2cd3-44c7-9d02-a6ac2d5ea5c3','158c047a-c907-4556-b7ef-446551a6b5f7','966707d0-3269-4727-9be2-8c3a10f19b9d','7be44c8a-adaf-4e2a-84d6-ab2649e08a13','e8611ab8-c189-46e8-94e1-60213ab1f814')\n",
    "\n",
    "$i = 0\n",
    "$UsersWithPrivilegedRoles = $PrivilegedRolesList | ForEach-Object {    \n",
    "    $RoleName = Get-MgBetaRoleManagementDirectoryRoleDefinition -UnifiedRoleDefinitionId $_ -Property \"DisplayName\" | Select-Object -ExpandProperty DisplayName\n",
    "    $i += 1\n",
    "    [int]$p = 100 * [float]$i / [float]($PrivilegedRolesList.Count)\n",
    "    Write-Progress -Activity \"Getting users with the role '$RoleName'\" -PercentComplete $p -Status \"$p% Complete\"\n",
    "    Get-EntraIdRoleAssignment -RoleName $RoleName | ForEach-Object {$_ | Add-Member -MemberType NoteProperty -Name 'Role' -Value $RoleName -PassThru -Force}\n",
    "}\n",
    "\n",
    "$UsersWithPrivilegedRoles | ForEach-Object {\n",
    "    $UserWithPrivilegedRole = $_\n",
    "    Get-MgUser -UserId $UserWithPrivilegedRole.Id -Property onPremisesSyncEnabled, DisplayName, AccountEnabled -ErrorAction SilentlyContinue | Select-Object -Property DisplayName, AccountEnabled, onPremisesSyncEnabled, @{ Name = 'Role';  Expression = {$UserWithPrivilegedRole.Role}}\n",
    "} | Where-Object {$_.OnPremisesSyncEnabled -and $_.AccountEnabled} | Select-Object -ExcludeProperty OnPremisesSyncEnabled, AccountEnabled"
   ]
  },
  {
   "cell_type": "markdown",
   "metadata": {},
   "source": [
    "## Use groups for Azure AD role assignments\n",
    "\n",
    "*(WiP)*\n",
    "\n",
    "*Severity*: High\n",
    "\n",
    "*Guid*: e0d968d3-87f6-41fb-a4f9-d852f1673f4c\n",
    "\n",
    "[Best Practice: Use groups for Azure AD role assignments and delegate the role assignment](https://learn.microsoft.com/en-us/azure/active-directory/roles/best-practices#6-use-groups-for-azure-ad-role-assignments-and-delegate-the-role-assignment)\n"
   ]
  },
  {
   "cell_type": "code",
   "execution_count": null,
   "metadata": {
    "dotnet_interactive": {
     "language": "pwsh"
    },
    "polyglot_notebook": {
     "kernelName": "pwsh"
    }
   },
   "outputs": [],
   "source": [
    "$RoleName = \"Global Administrator\"\n",
    "\n",
    "# Get the directory role id for $RoleName\n",
    "$DirectoryRoleId = Get-MgDirectoryRole -Filter \"DisplayName eq '$RoleName'\" | Select-Object -ExpandProperty Id\n",
    "# Get currently assigned\n",
    "$Assigned = Get-MgDirectoryRoleMember -DirectoryRoleId $DirectoryRoleId | Select-Object -ExpandProperty Id\n",
    "\n",
    "# TODO: $Assigned includes eligeble that have activated the role, but does not provide any details. we need to kow the 'state' and if it is activated we can disregard\n",
    "\n",
    "# Get the role definition id for $RoleName\n",
    "$DirectoryRoleDefinitionId = Get-MgBetaRoleManagementDirectoryRoleDefinition -Filter \"DisplayName eq '$RoleName'\" -Property \"id\" | Select-Object -ExpandProperty Id\n",
    "# get principals that are eligble for GA\n",
    "$EligeblePrincipals = Get-MgBetaRoleManagementDirectoryRoleEligibilityScheduleInstance -Filter \"roleDefinitionId eq '$DirectoryRoleDefinitionId'\" | Select-Object -ExpandProperty PrincipalId\n",
    "\n",
    "$DirectoryObjectByIds = $EligeblePrincipals # + $Assigned\n",
    "\n",
    "$params = @{\n",
    "    ids   = $DirectoryObjectByIds\n",
    "    types = @(\n",
    "        \"user\"\n",
    "        \"group\"\n",
    "    )\n",
    "}\n",
    "\n",
    "if($params.ids.Count -gt 0)\n",
    "{\n",
    "    $DirectoryObject = Get-MgDirectoryObjectById -BodyParameter $params\n",
    "\n",
    "    $DirectoryObject | Select-Object Id, @{ Name = 'displayName'; Expression = { $_.AdditionalProperties.displayName } }, @{ Name = 'type'; Expression = { $_.AdditionalProperties.'@odata.type'.split('.') | Select-Object -Last 1 } }\n",
    "}"
   ]
  },
  {
   "cell_type": "markdown",
   "metadata": {},
   "source": [
    "## PIM Alerts\n",
    "\n",
    "*Severity*: High\n",
    "\n",
    "*Guid*: N/A\n",
    "\n",
    "There should be no active alerts in PIM. If below identifies any active alerts go to [PIM alerts](https://portal.azure.com/#view/Microsoft_Azure_PIMCommon/ResourceMenuBlade/~/Alerts/resourceId//resourceType/tenant/provider/aadroles) for further details."
   ]
  },
  {
   "cell_type": "code",
   "execution_count": null,
   "metadata": {
    "dotnet_interactive": {
     "language": "pwsh"
    },
    "polyglot_notebook": {
     "kernelName": "pwsh"
    }
   },
   "outputs": [],
   "source": [
    "$GovernanceRoleManagementAlerts = Get-MgBetaIdentityGovernanceRoleManagementAlert -Filter \"scopeId eq '/' and scopeType eq 'DirectoryRole' and isActive eq true\" -ExpandProperty \"alertDefinition,alertConfiguration,alertIncidents\"\n",
    "\n",
    "$GovernanceRoleManagementAlerts | Select-Object -Property @{ Name = 'Alert'; Expression = { $_.alertDefinition.displayName } }, IncidentCount"
   ]
  },
  {
   "cell_type": "markdown",
   "metadata": {},
   "source": [
    "We can also list affected principals. Note that in some cases there is no direct principal, ex. for the alert `NoMfaOnRoleActivationAlert`"
   ]
  },
  {
   "cell_type": "code",
   "execution_count": null,
   "metadata": {
    "dotnet_interactive": {
     "language": "pwsh"
    },
    "polyglot_notebook": {
     "kernelName": "pwsh"
    }
   },
   "outputs": [],
   "source": [
    "$GovernanceRoleManagementAlerts = Get-MgBetaIdentityGovernanceRoleManagementAlert -Filter \"scopeId eq '/' and scopeType eq 'DirectoryRole' and isActive eq true\" -ExpandProperty \"alertDefinition,alertConfiguration,alertIncidents\"\n",
    "\n",
    "$GovernanceRoleManagementAlerts.alertIncidents.AdditionalProperties | Where-Object { $_.assigneeUserPrincipalName } | ForEach-Object {\n",
    "    $_ | Select-Object -Property @{ Name = 'Role'; Expression = { $_.roleDisplayName } }, @{ Name = 'User'; Expression = { \"$($_.assigneeDisplayName) ($($_.assigneeUserPrincipalName))\" } }\n",
    "}"
   ]
  },
  {
   "cell_type": "markdown",
   "metadata": {},
   "source": [
    "## Recurring access reviews\n",
    "\n",
    "*Severity*: High\n",
    "\n",
    "*Guid*: eae64d01-0d3a-4ae1-a89d-cc1c2ad3888f\n",
    "\n",
    "Configure recurring access reviews to revoke unneeded permissions over time.\n",
    "\n",
    "[Best Practice: Configure recurring access reviews to revoke unneeded permissions over time](https://learn.microsoft.com/en-us/azure/active-directory/roles/best-practices#4-configure-recurring-access-reviews-to-revoke-unneeded-permissions-over-time)\n",
    "\n",
    "If there are no access review definitions then there are no recurring access reviews."
   ]
  },
  {
   "cell_type": "code",
   "execution_count": null,
   "metadata": {
    "dotnet_interactive": {
     "language": "pwsh"
    },
    "polyglot_notebook": {
     "kernelName": "pwsh"
    }
   },
   "outputs": [],
   "source": [
    "$AccessReviewDefinitions = Get-MgBetaIdentityGovernanceAccessReviewDefinition\n",
    "\n",
    "Write-Host \"Access review definitions: $(($AccessReviewDefinitions | Measure-Object).Count)\""
   ]
  },
  {
   "cell_type": "markdown",
   "metadata": {},
   "source": [
    "## Access Reviews: Enabled for all groups\n",
    "\n",
    "*Severity*: Medium\n",
    "\n",
    "*Guid*: e6b4bed3-d5f3-4547-a134-7dc56028a71f\n",
    "\n",
    "[Plan a Microsoft Entra access reviews deployment](https://learn.microsoft.com/en-us/azure/active-directory/governance/deploy-access-reviews)"
   ]
  },
  {
   "cell_type": "markdown",
   "metadata": {},
   "source": [
    "## Apps and Owners Can Change All Group Membership\n",
    "\n",
    "Chad Cox: Group Membership changes to all groups, this script list every role and member (not pim eligible) with this capability , every application with the permission, and every owner of the application. Some of the permissions are to unified and some are to security. either way can you imagine if someone granted access to a group that gave them all kinds of access to teams sites or access to other cloud resources.\n",
    "\n",
    "https://www.linkedin.com/posts/chad-cox-194bb560_entraid-aad-azuread-activity-7093368251329495040-Ff9T\n",
    "\n",
    "https://github.com/chadmcox/Azure_Active_Directory/blob/master/Applications/get-AppsandOwnersCanChangeAllGroupMembership.ps1"
   ]
  },
  {
   "cell_type": "code",
   "execution_count": null,
   "metadata": {
    "dotnet_interactive": {
     "language": "pwsh"
    },
    "polyglot_notebook": {
     "kernelName": "pwsh"
    }
   },
   "outputs": [],
   "source": [
    "#get the graph id\n",
    "$Graph = Get-MgBetaServicePrincipal -filter \"appId eq '00000003-0000-0000-c000-000000000000'\" -ErrorAction Stop\n",
    "#get the permission IDs\n",
    "$group_permissions = $Graph | select -ExpandProperty approles | select * | where {$_.value -in (\"GroupMember.ReadWrite.All\",\"Group.ReadWrite.All\")}\n",
    "\n",
    "\n",
    "Get-MgBetaServicePrincipalAppRoleAssignedTo -ServicePrincipalId $graph.id -All | `\n",
    "    where {$_.AppRoleId -in ($group_permissions.id)} | select PrincipalDisplayName, PrincipalId -Unique | foreach{\n",
    "        Get-MgBetaServicePrincipal -serviceprincipalid $_.PrincipalId -ExpandProperty owners | foreach{\n",
    "            $app = $null;$app = $_\n",
    "            $app | select appid, displayname,PublisherName,@{N=\"via\";Expression={\"AppRoleAssignment\"}}\n",
    "            ($app.owners).id | select @{N=\"appid\";Expression={$app.appid}}, `\n",
    "                @{N=\"displayname\";Expression={(Get-MgBetaDirectoryObjectById -Ids $_ | select -ExpandProperty AdditionalProperties | convertto-json | convertfrom-json).displayname}}, `\n",
    "                @{N=\"PublisherName\";Expression={$app.PublisherName}},@{N=\"via\";Expression={\"Owner of $($app.displayname)\"}}\n",
    "            (Get-MgBetaApplication -filter \"appId eq '$($_.appid)'\" -ExpandProperty owners | `\n",
    "                select -expandproperty owners).id | select @{N=\"appid\";Expression={$app.appid}}, `\n",
    "                @{N=\"displayname\";Expression={(Get-MgBetaDirectoryObjectById -Ids $_ | select -ExpandProperty AdditionalProperties | convertto-json | convertfrom-json).displayname}}, `\n",
    "                @{N=\"PublisherName\";Expression={$app.PublisherName}},@{N=\"via\";Expression={\"Owner of $($app.displayname)\"}}\n",
    "        }\n",
    "    } | select DisplayName,via -Unique\n",
    "\n",
    "$roles = '810a2642-a034-447f-a5e8-41beaa378541',',11451d60-acb2-45eb-a7d6-43d0f0125c13','45d8d3c5-c802-45c6-b32a-1d70b5e1e86e', `\n",
    "  '744ec460-397e-42ad-a462-8b3f9747a02c', 'b5a8dcf3-09d5-43a9-a639-8e29ef291470', 'fdd7a751-b60b-444a-984c-02652fe8fa1c', `\n",
    "  '69091246-20e8-4a56-aa4d-066075b2a7a8', 'f28a1f50-f6e7-4571-818b-6a12f2af6b6c', '29232cdf-9323-42fd-ade2-1d097af3e4de', `\n",
    "  '9360feb5-f418-4baa-8175-e2a00bac4301', 'fe930be7-5e62-47db-91af-98c3a49a38b1', '62e90394-69f5-4237-9190-012177145e10'\n",
    "\n",
    "  Get-MgBetaDirectoryRole -all | where {$_.RoleTemplateId -in $roles} -pv role | foreach{\n",
    "    Get-MgBetaDirectoryRoleMember -DirectoryRoleId $_.Id | foreach{$_ | select -expandproperty AdditionalProperties | `\n",
    "        convertto-json -Depth 5| convertfrom-json}  | select displayName, @{N=\"via\";Expression={\"Role Member of $($role.displayname)\"}}\n",
    "  } | select DisplayName,via -Unique"
   ]
  },
  {
   "cell_type": "markdown",
   "metadata": {},
   "source": [
    "# External Identities"
   ]
  },
  {
   "cell_type": "markdown",
   "metadata": {},
   "source": [
    "## Guest invite settings\n",
    "\n",
    "*Severity*: High\n",
    "\n",
    "*Guid*: be64dd7d-f2e8-4bbb-a468-155abc9164e9\n",
    "\n",
    "External Collaboration Settings: Guest invite settings set to `'Only users assigned to specific admin roles can invite guest users'` or `'No one in the organization can invite guest users including admins (most restrictive)'`"
   ]
  },
  {
   "cell_type": "code",
   "execution_count": null,
   "metadata": {
    "dotnet_interactive": {
     "language": "pwsh"
    },
    "polyglot_notebook": {
     "kernelName": "pwsh"
    }
   },
   "outputs": [],
   "source": [
    "$AuthorizationPolicy = Get-MgPolicyAuthorizationPolicy\n",
    "\n",
    "$Setting = $AuthorizationPolicy.AllowInvitesFrom\n",
    "$Compliant = $Setting -in 'adminsAndGuestInviters', 'none'\n",
    "\n",
    "if($Compliant)\n",
    "{\n",
    "    Write-Host \"Compliant to control, setting is $($Setting)\" -ForegroundColor Green\n",
    "}\n",
    "else {\n",
    "    Write-Host \"Not compliant to control, setting is $($Setting)\" -ForegroundColor Red\n",
    "}"
   ]
  },
  {
   "cell_type": "markdown",
   "metadata": {},
   "source": [
    "## Guest user access restrictions\n",
    "\n",
    "*Severity*: High\n",
    "\n",
    "*Guid*: 459c373e-7ed7-4162-9b37-5a917ecbe48f\n",
    "\n",
    "External Collaboration Settings: Guest user access set to `'Guest user access is restricted to properties and memberships of their own directory objects (most restrictive)'`"
   ]
  },
  {
   "cell_type": "code",
   "execution_count": null,
   "metadata": {
    "dotnet_interactive": {
     "language": "pwsh"
    },
    "polyglot_notebook": {
     "kernelName": "pwsh"
    }
   },
   "outputs": [],
   "source": [
    "# TODO: does not say anything about guest user access....\n",
    "\n",
    "$ExternalIdentityPolicy = Get-MgBetaPolicyExternalIdentityPolicy #-ExpandProperty \"AdditionalProperties\"\n",
    "\n",
    "# $ExternalIdentityPolicy | fl *\n",
    "# $ExternalIdentityPolicy.AdditionalProperties | fl *\n",
    "\n"
   ]
  },
  {
   "cell_type": "markdown",
   "metadata": {},
   "source": [
    "# User Setting"
   ]
  },
  {
   "cell_type": "markdown",
   "metadata": {},
   "source": [
    "## User role permissions (Application registration)\n",
    "\n",
    "*Severity*: High\n",
    "\n",
    "*Guid*: a2cf2149-d013-4a92-9ce5-74dccbd8ac2a\n",
    "\n",
    "Users can register applications should be set to `No`.\n",
    "\n",
    "Users should not be allowed to register applications. Use specific roles such as `Application Developer`."
   ]
  },
  {
   "cell_type": "code",
   "execution_count": null,
   "metadata": {
    "dotnet_interactive": {
     "language": "pwsh"
    },
    "polyglot_notebook": {
     "kernelName": "pwsh"
    }
   },
   "outputs": [],
   "source": [
    "$AuthorizationPolicy = Get-MgPolicyAuthorizationPolicy -Property \"DefaultUserRolePermissions\"\n",
    "\n",
    "$Setting = $AuthorizationPolicy.DefaultUserRolePermissions.AllowedToCreateApps\n",
    "$Compliant = $Setting -eq $false\n",
    "\n",
    "if($Compliant)\n",
    "{\n",
    "    Write-Host \"Compliant to control; users are not allowed to create applications\" -ForegroundColor Green\n",
    "}\n",
    "else {\n",
    "    Write-Host \"Not compliant to control; users are allowed to create applications\" -ForegroundColor Red\n",
    "}"
   ]
  },
  {
   "cell_type": "markdown",
   "metadata": {},
   "source": [
    "# Custom Domains"
   ]
  },
  {
   "cell_type": "markdown",
   "metadata": {},
   "source": [
    "## Verified Domains\n",
    "\n",
    "*Severity*: High\n",
    "\n",
    "*Guid*: bade4aad-1e8c-439e-a946-667313c00567\n",
    "\n",
    "Only validated customer domains are registered"
   ]
  },
  {
   "cell_type": "code",
   "execution_count": null,
   "metadata": {
    "dotnet_interactive": {
     "language": "pwsh"
    },
    "polyglot_notebook": {
     "kernelName": "pwsh"
    }
   },
   "outputs": [],
   "source": [
    "$Domains = Get-MgBetaDomain\n",
    "\n",
    "$UnverifiedDomains = $Domains | Where-Object {-not $_.IsVerified}\n",
    "\n",
    "$Setting = $UnverifiedDomains\n",
    "$Compliant = $Setting.Count -eq 0\n",
    "\n",
    "if($Compliant)\n",
    "{\n",
    "    Write-Host \"Compliant to control; All ($($Domains.Count)) domains are verified\" -ForegroundColor Green\n",
    "}\n",
    "else {\n",
    "    Write-Host \"Not compliant to control; There are unverified domains registered: $($Setting | Select-Object -ExpandProperty Id)\" -ForegroundColor Red\n",
    "}"
   ]
  },
  {
   "cell_type": "markdown",
   "metadata": {},
   "source": [
    "# Enterprise Applications"
   ]
  },
  {
   "cell_type": "markdown",
   "metadata": {},
   "source": [
    "##  User consent for apps\n",
    "\n",
    "*Severity*: Medium\n",
    "\n",
    "*Guid*: 459c373e-7ed7-4162-9b37-5a917ecbe48f\n",
    "\n",
    "Consent & Permissions: Allow user consent for apps from verified publishers\n",
    "\n",
    "[Configure how users consent to applications](https://learn.microsoft.com/en-us/azure/active-directory/manage-apps/configure-user-consent?pivots=ms-graph)"
   ]
  },
  {
   "cell_type": "code",
   "execution_count": null,
   "metadata": {
    "dotnet_interactive": {
     "language": "pwsh"
    },
    "polyglot_notebook": {
     "kernelName": "pwsh"
    }
   },
   "outputs": [],
   "source": [
    "$PolicyAuthorization = Get-MgPolicyAuthorizationPolicy #-ExpandProperty defaultUserRolePermissions\n",
    "$permissionGrantPoliciesAssigned = $PolicyAuthorization.DefaultUserRolePermissions.permissionGrantPoliciesAssigned\n",
    "\n",
    "$Setting = $permissionGrantPoliciesAssigned\n",
    "$Compliant = $Setting[0] -ne \"ManagePermissionGrantsForSelf.microsoft-user-default-legacy\"\n",
    "\n",
    "if($Compliant)\n",
    "{\n",
    "    Write-Host \"Compliant to control; users are only allowed to consent to apps from verified publishers or not consent at all.\" -ForegroundColor Green\n",
    "}\n",
    "else {\n",
    "    Write-Host \"Not compliant to control; users are allowed to consent to all applications.\" -ForegroundColor Red\n",
    "}"
   ]
  },
  {
   "cell_type": "markdown",
   "metadata": {},
   "source": [
    "##  Group Owner Consent\n",
    "\n",
    "*Severity*: Medium\n",
    "\n",
    "*Guid*: 909aed8c-44cf-43b2-a381-8bafa2cf2149\n",
    "\n",
    "Consent & Permissions: Allow group owner consent for selected group owners \n",
    "\n",
    "[Configure group owner consent to applications](https://learn.microsoft.com/en-us/azure/active-directory/manage-apps/configure-user-consent-groups?tabs=azure-portal)"
   ]
  },
  {
   "cell_type": "code",
   "execution_count": null,
   "metadata": {
    "dotnet_interactive": {
     "language": "pwsh"
    },
    "polyglot_notebook": {
     "kernelName": "pwsh"
    }
   },
   "outputs": [],
   "source": [
    "# TODO - example is using AzureADPreview module and we would like to stick to MS Graph"
   ]
  },
  {
   "cell_type": "markdown",
   "metadata": {},
   "source": [
    "##  Application Owners\n",
    "\n",
    "*Severity*: High\n",
    "\n",
    "*Guid*: N/A\n",
    "\n",
    "MITRE ATT&CK tactics: [Persistence](https://attack.mitre.org/tactics/TA0003/), [Privilege Escalation](https://attack.mitre.org/tactics/TA0004/)\n",
    "\n",
    "Credit: [Chad Cox](https://github.com/chadmcox) / [Applications/get-BuiltinAPPOwners.ps1](https://github.com/chadmcox/Azure_Active_Directory/blob/master/Applications/get-BuiltinAPPOwners.ps1)\n",
    "\n",
    "Read here how these can be exploited: [Azure AD privilege escalation - Taking over default application permissions as Application Admin](https://dirkjanm.io/azure-ad-privilege-escalation-application-admin/) - Note that the Owner of the service principal can exploit this in the same way, hence why we look for owners.\n",
    "\n",
    "Below code snippets look for various applications that are at an increased risk from having owners. "
   ]
  },
  {
   "cell_type": "code",
   "execution_count": null,
   "metadata": {
    "dotnet_interactive": {
     "language": "pwsh"
    },
    "polyglot_notebook": {
     "kernelName": "pwsh"
    }
   },
   "outputs": [],
   "source": [
    "Get-MgBetaServicePrincipal -all -ExpandProperty owners | `\n",
    "    # looking for first-party Microsoft applications with owners\n",
    "    # TODO: convert to filter\n",
    "    where {$_.PublisherName -like \"*Microsoft*\" -or !($_.PublisherName -eq \"Microsoft Accounts\") -and $_.AppOwnerOrganizationId -eq 'f8cdef31-a31e-4b4a-93e4-5f571e91255a'} | `\n",
    "        where {$_.owners -like \"*\"} | select appid, displayname,PublisherName, owners # TODO: look up owner\n",
    "\n",
    "# TODO: can we look for anyone who persisted access through one of these?"
   ]
  },
  {
   "cell_type": "markdown",
   "metadata": {},
   "source": [
    "Look for applications with application permission in Microsoft Graph and 1 or more owners assigned. Application permissions are often medium-high risk permissions."
   ]
  },
  {
   "cell_type": "code",
   "execution_count": null,
   "metadata": {
    "dotnet_interactive": {
     "language": "pwsh"
    },
    "polyglot_notebook": {
     "kernelName": "pwsh"
    }
   },
   "outputs": [],
   "source": [
    "$MgGraphPermissionIds = Find-MgGraphPermission -All -PermissionType Application | Select-Object -ExpandProperty Id\n",
    "$Applications = Get-MgBetaApplication -All -ExpandProperty Owners | Where-Object {\n",
    "    $RequiredResourceAccess = $_.RequiredResourceAccess\n",
    "    $ResourceAppId = $RequiredResourceAccess.ResourceAppId\n",
    "    $ResourceAccessIds = $RequiredResourceAccess.ResourceAccess.Id\n",
    "    $ResourceAppId -eq '00000003-0000-0000-c000-000000000000' -and $_.Owners.Count -gt 0 -and  ($ResourceAccessIds | Where-Object {$_ -In $MgGraphPermissionIds}).Count -gt 0\n",
    "}\n",
    "\n",
    "$Applications | Select-Object -Property DisplayName, AppId, Owners # TODO: look up owner"
   ]
  },
  {
   "cell_type": "markdown",
   "metadata": {},
   "source": [
    "Look for applications with owners and any resource access that we do not consider low-risk. The applications listed below is worth looking into."
   ]
  },
  {
   "cell_type": "code",
   "execution_count": null,
   "metadata": {
    "dotnet_interactive": {
     "language": "pwsh"
    },
    "polyglot_notebook": {
     "kernelName": "pwsh"
    }
   },
   "outputs": [],
   "source": [
    "# filter out some of the classical delegated low-risk permissions\n",
    "\n",
    "$LowPermissions = @('14dad69e-099b-42c9-810b-d002981feec1', 'e1fe6dd8-ba31-4d61-89e7-88639da4683d', '64a6cdd6-aab1-4aaf-94b8-3cc8405e90d0', '7427e0e9-2fba-42fe-b0c0-848c9e6a8182', '37f7f235-527c-4136-accd-4a02d197296e')\n",
    "# Find-MgGraphPermission -All | Where-Object {$_.Id -in $LowPermissions} # uncomment to list low-risk permissions\n",
    "($LowPermissions | ForEach-Object {Find-MgGraphPermission $_}).Name\n",
    "$Applications = Get-MgBetaApplication -All -ExpandProperty Owners | Where-Object {\n",
    "    $RequiredResourceAccess = $_.RequiredResourceAccess\n",
    "    $ResourceAppId = $RequiredResourceAccess.ResourceAppId\n",
    "    $ResourceAccessIds = $RequiredResourceAccess.ResourceAccess.Id\n",
    "    $HasOwners = $_.Owners.Count -gt 0\n",
    "    $OnlyLowPermissions = $ResourceAppId -eq '00000003-0000-0000-c000-000000000000' -and ($ResourceAccessIds | Where-Object {$_ -In $LowPermissions}).Count -eq $LowPermissions.Count\n",
    "    # Application has owners, has API permissions and those permission are not only low-risk permissions\n",
    "    $HasOwners -and $null -ne $_.RequiredResourceAccess -and -not $OnlyLowPermissions\n",
    "}\n",
    "\n",
    "$Applications | Select-Object -Property DisplayName, AppId, Owners # TODO: look up owner"
   ]
  },
  {
   "cell_type": "markdown",
   "metadata": {},
   "source": [
    "# Conditional Access Policies"
   ]
  },
  {
   "cell_type": "markdown",
   "metadata": {},
   "source": [
    "## Block Legacy Protocols\n",
    "\n",
    "*Severity*: High\n",
    "\n",
    "*Guid*: 9e6efe9d-f28f-463b-9bff-b5080173e9fe\n",
    "\n",
    "[Common Conditional Access policy: Block legacy authentication](https://learn.microsoft.com/en-us/azure/active-directory/conditional-access/howto-conditional-access-policy-block-legacy)\n",
    "\n",
    "Below looks for a conditional access policy that blocks legacy protocols and also outputs users excluded."
   ]
  },
  {
   "cell_type": "code",
   "execution_count": null,
   "metadata": {
    "dotnet_interactive": {
     "language": "pwsh"
    },
    "polyglot_notebook": {
     "kernelName": "pwsh"
    }
   },
   "outputs": [],
   "source": [
    "# we are looking for a policy that is enabled, the control is block, includes all users, and condition is legacy clients\n",
    "$Filter = \"state eq 'enabled' and grantControls/builtInControls/all(i:i eq 'block') and conditions/users/includeUsers/all(i:i eq 'All') and conditions/clientAppTypes/all(i:i eq 'exchangeActiveSync' or i eq 'other')\"\n",
    "# need to use the beta API as v1.0 does not include policies made from templates\n",
    "$BlockLegacyProtocolPolicy = Get-MgBetaIdentityConditionalAccessPolicy -Filter $Filter\n",
    "\n",
    "# $BlockLegacyProtocolPolicy | Select-Object -Property DisplayName, Id\n",
    "\n",
    "$ExcludeUsers = $BlockLegacyProtocolPolicy.Conditions.Users.ExcludeUsers\n",
    "$ExcludeGroups = $BlockLegacyProtocolPolicy.Conditions.Users.ExcludeGroups\n",
    "$ExcludeGuestsOrExternalUsers = $BlockLegacyProtocolPolicy.Conditions.Users.ExcludeGuestsOrExternalUsers\n",
    "\n",
    "# TODO:\n",
    "# $ExcludeGroups\n",
    "# $ExcludeGuestsOrExternalUsers\n",
    "\n",
    "$Compliant = $null -ne $BlockLegacyProtocolPolicy -and $BlockLegacyProtocolPolicy.Count -gt 0\n",
    "\n",
    "if($Compliant)\n",
    "{\n",
    "    Write-Host \"Compliant to control; CA Policy found blocking legacy protocols\" -ForegroundColor Green\n",
    "}\n",
    "else {\n",
    "    Write-Host \"Not compliant to control; No valid CA Policy found blocking legacy protocols\" -ForegroundColor Red\n",
    "}\n",
    "\n",
    "$ExcludeUsers | Where-Object { $null -ne $_ } | ForEach-Object {\n",
    "    $ExcludedUser = Get-MgUser -Filter \"id eq '$_'\"\n",
    "    Write-Host \"Excluded user: $($ExcludedUser.DisplayName) ($($ExcludedUser.UserPrincipalName))\"\n",
    "}"
   ]
  },
  {
   "cell_type": "markdown",
   "metadata": {},
   "source": [
    "## Require MFA for Administrators\n",
    "\n",
    "*Severity*: High\n",
    "\n",
    "*Guid*: fe1bd15d-d2f0-4d5e-972d-41e3611cc57b\n",
    "\n",
    "[Common Conditional Access policy: Require MFA for administrators](https://learn.microsoft.com/en-us/azure/active-directory/conditional-access/howto-conditional-access-policy-admin-mfa)\n",
    "\n",
    "Below looks for a conditional access policy that matches the policy template `\"Require multifactor authentication for admins\"`"
   ]
  },
  {
   "cell_type": "code",
   "execution_count": null,
   "metadata": {
    "dotnet_interactive": {
     "language": "pwsh"
    },
    "polyglot_notebook": {
     "kernelName": "pwsh"
    }
   },
   "outputs": [],
   "source": [
    "# we are looking for a policy that is enabled, the control is MFA or authentication strenght, includes specific roles, and includes all applications\n",
    "$PrivilegedRolesList = \"('62e90394-69f5-4237-9190-012177145e10','194ae4cb-b126-40b2-bd5b-6091b380977d','f28a1f50-f6e7-4571-818b-6a12f2af6b6c','29232cdf-9323-42fd-ade2-1d097af3e4de','b1be1c3e-b65d-4f19-8427-f6fa0d97feb9','729827e3-9c14-49f7-bb1b-9608f156bbb8','b0f54661-2d74-4c50-afa3-1ec803f12efe','fe930be7-5e62-47db-91af-98c3a49a38b1','c4e39bd9-1100-46d3-8c65-fb160da0071f','9b895d92-2cd3-44c7-9d02-a6ac2d5ea5c3','158c047a-c907-4556-b7ef-446551a6b5f7','966707d0-3269-4727-9be2-8c3a10f19b9d','7be44c8a-adaf-4e2a-84d6-ab2649e08a13','e8611ab8-c189-46e8-94e1-60213ab1f814')\"\n",
    "# cannot filter on authenticationStrength: Invalid $filter: navigation property 'authenticationStrength' not found on type 'microsoft.graph.conditionalAccessPolicy'.\n",
    "# we will do this when checking if the policy is compliant\n",
    "$Filter = \"state eq 'enabled' and conditions/applications/includeApplications/all(i:i eq 'All') and conditions/users/includeRoles/`$count gt 0 and conditions/users/includeRoles/all(i:i in $PrivilegedRolesList)\" # and (grantControls/builtInControls/all(i:i eq 'mfa') or grantControls/authenticationStrength ne null)\n",
    "# need to use the beta API as v1.0 does not include policies made from templates\n",
    "$RequireMfaAdminsPolicy = Get-MgBetaIdentityConditionalAccessPolicy -Filter $Filter\n",
    "\n",
    "# $RequireMfaAdminsPolicy | Select-Object -Property DisplayName, Id\n",
    "\n",
    "$ExcludeUsers = $RequireMfaAdminsPolicy.Conditions.Users.ExcludeUsers\n",
    "$ExcludeGroups = $RequireMfaAdminsPolicy.Conditions.Users.ExcludeGroups\n",
    "$ExcludeGuestsOrExternalUsers = $RequireMfaAdminsPolicy.Conditions.Users.ExcludeGuestsOrExternalUsers\n",
    "\n",
    "# TODO:\n",
    "# $ExcludeGroups\n",
    "# $ExcludeGuestsOrExternalUsers\n",
    "\n",
    "if($RequireMfaAdminsPolicy.Count -gt 1)\n",
    "{\n",
    "    # $Compliant will become $false as we expect a single policy\n",
    "    Write-Warning \"Found multiple matching CA policies:`n$($RequireMfaAdminsPolicy.DisplayName -join ',')\"\n",
    "}\n",
    "$Compliant = $null -ne $RequireMfaAdminsPolicy -and $RequireMfaAdminsPolicy.Count -eq 1 -and ('mfa' -in $RequireMfaAdminsPolicy.GrantControls.builtInControls -or $RequireMfaAdminsPolicy.GrantControls.authenticationStrength.requirementsSatisfied -eq 'mfa')\n",
    "\n",
    "if($Compliant)\n",
    "{\n",
    "    Write-Host \"Compliant to control; CA Policy found that requires administrators to use MFA or better\" -ForegroundColor Green\n",
    "}\n",
    "else {\n",
    "    Write-Host \"Not compliant to control; No valid CA Policy found targeting Azure administrators\" -ForegroundColor Red\n",
    "}\n",
    "\n",
    "if($Compliant)\n",
    "{\n",
    "    # only makes sense to show if the policy is compliant\n",
    "    $ExcludeUsers | Where-Object { $null -ne $_ } | ForEach-Object {\n",
    "        $ExcludedUser = Get-MgUser -Filter \"id eq '$_'\"\n",
    "        Write-Host \"Excluded user: $($ExcludedUser.DisplayName) ($($ExcludedUser.UserPrincipalName))\"\n",
    "    }\n",
    "}"
   ]
  },
  {
   "cell_type": "markdown",
   "metadata": {},
   "source": [
    "## Require MFA for Azure Management\n",
    "\n",
    "*Severity*: High\n",
    "\n",
    "*Guid*: 4a4b1410-d439-4589-ac22-89b3d6b57cfc\n",
    "\n",
    "[Common Conditional Access policy: Require MFA for Azure management](https://learn.microsoft.com/en-us/azure/active-directory/conditional-access/howto-conditional-access-policy-azure-management)\n",
    "\n",
    "Below looks for a conditional access policy that matches the policy template `\"Require multifactor authentication for Azure management\"`"
   ]
  },
  {
   "cell_type": "code",
   "execution_count": null,
   "metadata": {
    "dotnet_interactive": {
     "language": "pwsh"
    },
    "polyglot_notebook": {
     "kernelName": "pwsh"
    }
   },
   "outputs": [],
   "source": [
    "# we are looking for a policy that is enabled, the control is MFA or authentication strenght, targeting application \"Microsoft Azure Management\"\n",
    "# cannot filter on authenticationStrength: Invalid $filter: navigation property 'authenticationStrength' not found on type 'microsoft.graph.conditionalAccessPolicy'.\n",
    "# we will do this when checking if the policy is compliant\n",
    "$Filter = \"state eq 'enabled' and conditions/applications/includeApplications/all(i:i eq '797f4846-ba00-4fd7-ba43-dac1f8f63013') and conditions/users/includeRoles/`$count gt 0 and conditions/users/includeUsers/all(i:i eq 'All')\" # and (grantControls/builtInControls/all(i:i eq 'mfa') or grantControls/authenticationStrength ne null)\n",
    "# need to use the beta API as v1.0 does not include policies made from templates\n",
    "$RequireMfaAdminsPolicy = Get-MgBetaIdentityConditionalAccessPolicy -Filter $Filter\n",
    "\n",
    "# $RequireMfaAdminsPolicy | Select-Object -Property DisplayName, Id\n",
    "\n",
    "$ExcludeUsers = $RequireMfaAdminsPolicy.Conditions.Users.ExcludeUsers\n",
    "$ExcludeGroups = $RequireMfaAdminsPolicy.Conditions.Users.ExcludeGroups\n",
    "$ExcludeGuestsOrExternalUsers = $RequireMfaAdminsPolicy.Conditions.Users.ExcludeGuestsOrExternalUsers\n",
    "\n",
    "# TODO:\n",
    "# $ExcludeGroups\n",
    "# $ExcludeGuestsOrExternalUsers\n",
    "\n",
    "if($RequireMfaAdminsPolicy.Count -gt 1)\n",
    "{\n",
    "    # $Compliant will become $false as we expect a single policy\n",
    "    Write-Warning \"Found multiple matching CA policies\"\n",
    "}\n",
    "$Compliant = $null -ne $RequireMfaAdminsPolicy -and $RequireMfaAdminsPolicy.Count -eq 1 -and ('mfa' -in $RequireMfaAdminsPolicy.GrantControls.builtInControls -or $RequireMfaAdminsPolicy.GrantControls.authenticationStrength.requirementsSatisfied -eq 'mfa')\n",
    "\n",
    "if($Compliant)\n",
    "{\n",
    "    Write-Host \"Compliant to control; CA Policy found that requires MFA or better to use 'Microsoft Azure Management'\" -ForegroundColor Green\n",
    "}\n",
    "else {\n",
    "    Write-Host \"Not compliant to control; No valid CA Policy found\" -ForegroundColor Red\n",
    "}\n",
    "\n",
    "$ExcludeUsers | Where-Object { $null -ne $_ } | ForEach-Object {\n",
    "    $ExcludedUser = Get-MgUser -Filter \"id eq '$_'\"\n",
    "    Write-Host \"Excluded user: $($ExcludedUser.DisplayName) ($($ExcludedUser.UserPrincipalName))\"\n",
    "}"
   ]
  },
  {
   "cell_type": "markdown",
   "metadata": {},
   "source": [
    "## Restricted Locations\n",
    "\n",
    "*Severity*: Medium\n",
    "\n",
    "*Guid*: 079b588d-efc4-4972-ac3c-d21bf77036e5\n",
    "\n",
    "[Using the location condition in a Conditional Access policy](https://learn.microsoft.com/en-us/azure/active-directory/conditional-access/location-condition)\n",
    "\n",
    "Named locations can be used in numerous different way. A bad way to use them is to exclude from ex. enforcing MFA when coming from a `\"trusted location\"`. This does not conform to a `zero trust strategy`."
   ]
  },
  {
   "cell_type": "code",
   "execution_count": null,
   "metadata": {
    "dotnet_interactive": {
     "language": "pwsh"
    },
    "polyglot_notebook": {
     "kernelName": "pwsh"
    }
   },
   "outputs": [],
   "source": [
    "# check if any named locations exist\n",
    "$NamedLocation = Get-MgBetaIdentityConditionalAccessNamedLocation\n",
    "\n",
    "$Compliant = $null -ne $NamedLocation -and $NamedLocation.Count -gt 0\n",
    "\n",
    "if($Compliant)\n",
    "{\n",
    "    Write-Host \"Compliant to control; $($NamedLocation.Count) Named Locations are defined\" -ForegroundColor Green\n",
    "}\n",
    "else {\n",
    "    Write-Host \"Not compliant to control; No Named Locations are defined\" -ForegroundColor Red\n",
    "}\n",
    "\n",
    "# we can look for policies that excludes locations under conditions but exclude those that block access\n",
    "$Filter = \"state eq 'enabled' and conditions/locations/excludeLocations/all(i:i ne null) and grantControls/builtInControls/all(i:i ne 'block')\"\n",
    "# need to use the beta API as v1.0 does not include policies made from templates\n",
    "$PoliciesLocationExclusion = Get-MgBetaIdentityConditionalAccessPolicy -Filter $Filter\n",
    "\n",
    "if($PoliciesLocationExclusion.Count -gt 0)\n",
    "{\n",
    "    Write-Warning \"$($PoliciesLocationExclusion.Count) policies has location exclusions:\"\n",
    "    $PoliciesLocationExclusion | Select-Object -Property DisplayName, Id\n",
    "}"
   ]
  },
  {
   "cell_type": "markdown",
   "metadata": {},
   "source": [
    "## Require devices to be marked as compliant\n",
    "\n",
    "*Severity*: High\n",
    "\n",
    "*Guid*: 7ae9eab4-0fd3-4290-998b-c178bdc5a06c\n",
    "\n",
    "[Require device to be marked as compliant](https://learn.microsoft.com/en-us/azure/active-directory/conditional-access/concept-conditional-access-grant#require-device-to-be-marked-as-compliant)\n",
    "\n",
    "Requiring devices to be marked as compliant in CA policy grants can be a powerful way of ensuring that connections are made from devices that are managed by the organization. With sufficiently strict device configurations enforced, this can be combined with MFA, or just a standalone grant."
   ]
  },
  {
   "cell_type": "code",
   "execution_count": null,
   "metadata": {
    "dotnet_interactive": {
     "language": "pwsh"
    },
    "polyglot_notebook": {
     "kernelName": "pwsh"
    }
   },
   "outputs": [],
   "source": [
    "# we are looking for a policy that is enabled, the control is require device to be marked as compliant\n",
    "$Filter = \"state eq 'enabled' and grantControls/builtInControls/`$count gt 0 and grantControls/builtInControls/all(i:i eq 'compliantDevice')\"\n",
    "# need to use the beta API as v1.0 does not include policies made from templates\n",
    "$CompliantDevicePolicy = Get-MgBetaIdentityConditionalAccessPolicy -Filter $Filter\n",
    "\n",
    "# $CompliantDevicePolicy | Select-Object -Property DisplayName, Id\n",
    "\n",
    "$ExcludeUsers = $CompliantDevicePolicy.Conditions.Users.ExcludeUsers\n",
    "$ExcludeGroups = $CompliantDevicePolicy.Conditions.Users.ExcludeGroups\n",
    "$ExcludeGuestsOrExternalUsers = $CompliantDevicePolicy.Conditions.Users.ExcludeGuestsOrExternalUsers\n",
    "\n",
    "# TODO:\n",
    "# $ExcludeGroups\n",
    "# $ExcludeGuestsOrExternalUsers\n",
    "\n",
    "$Compliant = $null -ne $CompliantDevicePolicy -and $CompliantDevicePolicy.Count -gt 0\n",
    "\n",
    "if($Compliant)\n",
    "{\n",
    "    Write-Host \"Compliant to control; CA Policy found that requires devices to be marked as compliant:`n$($CompliantDevicePolicy.DisplayName -join ',')\" -ForegroundColor Green\n",
    "}\n",
    "else {\n",
    "    Write-Host \"Not compliant to control; No valid CA Policy found\" -ForegroundColor Red\n",
    "}\n",
    "\n",
    "$ExcludeUsers | Where-Object { $null -ne $_ } | ForEach-Object {\n",
    "    $ExcludedUser = Get-MgUser -Filter \"id eq '$_'\"\n",
    "    Write-Host \"Excluded user: $($ExcludedUser.DisplayName) ($($ExcludedUser.UserPrincipalName))\"\n",
    "}"
   ]
  }
 ],
 "metadata": {
  "kernelspec": {
   "display_name": ".NET (C#)",
   "language": "C#",
   "name": ".net-csharp"
  },
  "language_info": {
   "name": "polyglot-notebook"
  },
  "polyglot_notebook": {
   "kernelInfo": {
    "defaultKernelName": "csharp",
    "items": [
     {
      "aliases": [],
      "name": "csharp"
     },
     {
      "aliases": [],
      "languageName": "pwsh",
      "name": "pwsh"
     }
    ]
   }
  }
 },
 "nbformat": 4,
 "nbformat_minor": 2
}
