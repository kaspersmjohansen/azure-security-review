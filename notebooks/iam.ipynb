{
 "cells": [
  {
   "cell_type": "markdown",
   "metadata": {},
   "source": [
    "# Initialization"
   ]
  },
  {
   "cell_type": "code",
   "execution_count": 102,
   "metadata": {
    "dotnet_interactive": {
     "language": "pwsh"
    },
    "polyglot_notebook": {
     "kernelName": "pwsh"
    }
   },
   "outputs": [],
   "source": [
    "$TenantId = $global:TenantId\n",
    "# connect once for all necessary scopes for this notebook\n",
    "$null = Connect-MgGraph -Scopes \"Directory.AccessAsUser.All\", \"Policy.Read.All\" -TenantId $TenantId -ErrorAction Stop\n",
    "# load functions\n",
    ". \"..\\src\\functions.ps1\""
   ]
  },
  {
   "cell_type": "markdown",
   "metadata": {},
   "source": [
    "# Privileged administration"
   ]
  },
  {
   "cell_type": "markdown",
   "metadata": {},
   "source": [
    "## Limit the number of Global Administrators to less than 5\n",
    "\n",
    "*Severity*: High\n",
    "\n",
    "*Guid*: 9e6efe9d-f28f-463b-9bff-b5080173e9fe"
   ]
  },
  {
   "cell_type": "code",
   "execution_count": 101,
   "metadata": {
    "dotnet_interactive": {
     "language": "pwsh"
    },
    "polyglot_notebook": {
     "kernelName": "pwsh"
    }
   },
   "outputs": [
    {
     "name": "stdout",
     "output_type": "stream",
     "text": [
      "\u001b[92mCompliant to control; there are 2 Global Administrators\u001b[0m\r\n"
     ]
    }
   ],
   "source": [
    "\n",
    "$DirectoryRoleId = Get-MgDirectoryRole -Filter \"DisplayName eq 'Global Administrator'\" | Select-Object -ExpandProperty Id\n",
    "\n",
    "$globalAdmins = Get-MgDirectoryRoleMember -DirectoryRoleId  $DirectoryRoleId  \n",
    "\n",
    "$Setting = $globalAdmins\n",
    "$Compliant = $Setting.Count -lt 5\n",
    "\n",
    "if($Compliant)\n",
    "{\n",
    "    Write-Host \"Compliant to control; there are $($Setting.Count) Global Administrators\" -ForegroundColor Green\n",
    "}\n",
    "else {\n",
    "    Write-Host \"Not compliant to control; there are $($Setting.Count) Global Administrators\" -ForegroundColor Red\n",
    "}\n",
    "\n",
    "# TODO: get users that are eligble for GA"
   ]
  },
  {
   "cell_type": "markdown",
   "metadata": {},
   "source": [
    "# External Identities"
   ]
  },
  {
   "cell_type": "markdown",
   "metadata": {},
   "source": [
    "## Guest invite settings\n",
    "\n",
    "*Severity*: High\n",
    "\n",
    "*Guid*: be64dd7d-f2e8-4bbb-a468-155abc9164e9\n",
    "\n",
    "External Collaboration Settings: Guest invite settings set to `'Only users assigned to specific admin roles can invite guest users'` or `'No one in the organization can invite guest users including admins (most restrictive)'`"
   ]
  },
  {
   "cell_type": "code",
   "execution_count": 93,
   "metadata": {
    "dotnet_interactive": {
     "language": "pwsh"
    },
    "polyglot_notebook": {
     "kernelName": "pwsh"
    }
   },
   "outputs": [
    {
     "name": "stdout",
     "output_type": "stream",
     "text": [
      "\u001b[92mCompliant to control, setting is adminsAndGuestInviters\u001b[0m\r\n"
     ]
    }
   ],
   "source": [
    "$AuthorizationPolicy = Get-MgPolicyAuthorizationPolicy\n",
    "\n",
    "$Setting = $AuthorizationPolicy.AllowInvitesFrom\n",
    "$Compliant = $Setting -in 'adminsAndGuestInviters', 'none'\n",
    "\n",
    "if($Compliant)\n",
    "{\n",
    "    Write-Host \"Compliant to control, setting is $($Setting)\" -ForegroundColor Green\n",
    "}\n",
    "else {\n",
    "    Write-Host \"Not compliant to control, setting is $($Setting)\" -ForegroundColor Red\n",
    "}"
   ]
  },
  {
   "cell_type": "markdown",
   "metadata": {},
   "source": [
    "## Guest user access restrictions\n",
    "\n",
    "*Severity*: High\n",
    "\n",
    "*Guid*: 459c373e-7ed7-4162-9b37-5a917ecbe48f\n",
    "\n",
    "External Collaboration Settings: Guest user access set to `'Guest user access is restricted to properties and memberships of their own directory objects (most restrictive)'`"
   ]
  },
  {
   "cell_type": "code",
   "execution_count": 94,
   "metadata": {
    "dotnet_interactive": {
     "language": "pwsh"
    },
    "polyglot_notebook": {
     "kernelName": "pwsh"
    }
   },
   "outputs": [],
   "source": [
    "# TODO: does not say anything about guest user access....\n",
    "\n",
    "$ExternalIdentityPolicy = Get-MgBetaPolicyExternalIdentityPolicy #-ExpandProperty \"AdditionalProperties\"\n",
    "\n",
    "# $ExternalIdentityPolicy | fl *\n",
    "# $ExternalIdentityPolicy.AdditionalProperties | fl *\n",
    "\n"
   ]
  },
  {
   "cell_type": "markdown",
   "metadata": {},
   "source": [
    "# User Setting"
   ]
  },
  {
   "cell_type": "markdown",
   "metadata": {},
   "source": [
    "## User role permissions (Application registration)\n",
    "\n",
    "*Severity*: High\n",
    "\n",
    "*Guid*: a2cf2149-d013-4a92-9ce5-74dccbd8ac2a\n",
    "\n",
    "Users can register applications should be set to `No`.\n",
    "\n",
    "Users should not be allowed to register applications. Use specific roles such as `Application Developer`."
   ]
  },
  {
   "cell_type": "code",
   "execution_count": 95,
   "metadata": {
    "dotnet_interactive": {
     "language": "pwsh"
    },
    "polyglot_notebook": {
     "kernelName": "pwsh"
    }
   },
   "outputs": [
    {
     "name": "stdout",
     "output_type": "stream",
     "text": [
      "\u001b[91mNot compliant to control; users are allowed to create applications\u001b[0m\r\n"
     ]
    }
   ],
   "source": [
    "$AuthorizationPolicy = Get-MgPolicyAuthorizationPolicy -Property \"DefaultUserRolePermissions\"\n",
    "\n",
    "$Setting = $AuthorizationPolicy.DefaultUserRolePermissions.AllowedToCreateApps\n",
    "$Compliant = $Setting -eq $false\n",
    "\n",
    "if($Compliant)\n",
    "{\n",
    "    Write-Host \"Compliant to control; users are not allowed to create applications\" -ForegroundColor Green\n",
    "}\n",
    "else {\n",
    "    Write-Host \"Not compliant to control; users are allowed to create applications\" -ForegroundColor Red\n",
    "}"
   ]
  },
  {
   "cell_type": "markdown",
   "metadata": {},
   "source": [
    "# Custom Domains"
   ]
  },
  {
   "cell_type": "markdown",
   "metadata": {},
   "source": [
    "## Verified Domains\n",
    "\n",
    "*Severity*: High\n",
    "\n",
    "*Guid*: bade4aad-1e8c-439e-a946-667313c00567\n",
    "\n",
    "Only validated customer domains are registered"
   ]
  },
  {
   "cell_type": "code",
   "execution_count": 96,
   "metadata": {
    "dotnet_interactive": {
     "language": "pwsh"
    },
    "polyglot_notebook": {
     "kernelName": "pwsh"
    }
   },
   "outputs": [
    {
     "name": "stdout",
     "output_type": "stream",
     "text": [
      "\u001b[91mNot compliant to control; There are unverified domains registered: notverified.spaelling.xyz\u001b[0m\r\n"
     ]
    }
   ],
   "source": [
    "$Domains = Get-MgBetaDomain\n",
    "\n",
    "$UnverifiedDomains = $Domains | Where-Object {-not $_.IsVerified}\n",
    "\n",
    "$Setting = $UnverifiedDomains\n",
    "$Compliant = $Setting.Count -eq 0\n",
    "\n",
    "if($Compliant)\n",
    "{\n",
    "    Write-Host \"Compliant to control; All domains are verified\" -ForegroundColor Green\n",
    "}\n",
    "else {\n",
    "    Write-Host \"Not compliant to control; There are unverified domains registered: $($Setting | Select-Object -ExpandProperty Id)\" -ForegroundColor Red\n",
    "}"
   ]
  }
 ],
 "metadata": {
  "kernelspec": {
   "display_name": ".NET (C#)",
   "language": "C#",
   "name": ".net-csharp"
  },
  "language_info": {
   "name": "polyglot-notebook"
  },
  "polyglot_notebook": {
   "kernelInfo": {
    "defaultKernelName": "csharp",
    "items": [
     {
      "aliases": [],
      "name": "csharp"
     },
     {
      "aliases": [],
      "languageName": "pwsh",
      "name": "pwsh"
     }
    ]
   }
  }
 },
 "nbformat": 4,
 "nbformat_minor": 2
}
