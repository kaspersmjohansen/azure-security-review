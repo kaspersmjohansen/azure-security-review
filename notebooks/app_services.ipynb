{
 "cells": [
  {
   "cell_type": "code",
   "execution_count": null,
   "metadata": {
    "dotnet_interactive": {
     "language": "pwsh"
    },
    "polyglot_notebook": {
     "kernelName": "pwsh"
    }
   },
   "outputs": [],
   "source": [
    "# 690e25b4-8c5e-4a10-a32e-523da88a4c99 is my demo tenant\n",
    "$TenantId = '690e25b4-8c5e-4a10-a32e-523da88a4c99' #\"<TENANT_ID>\"\n",
    "$SubscriptionId = 'b9334351-cec8-405d-8358-51846fa2a3ab'\n",
    "\n",
    ". \"..\\src\\functions.ps1\"\n",
    "\n",
    "try{\n",
    "    Set-AzContext -TenantId $TenantId -SubscriptionId $SubscriptionId -ErrorAction Stop\n",
    "}\n",
    "catch{\n",
    "    Connect-AzAccount -TenantId $TenantId\n",
    "}\n",
    "\n",
    "$CheckListUrl = 'https://raw.githubusercontent.com/Azure/review-checklists/main/checklists/appsvc_security_checklist.en.json'\n",
    "$appsvcSecurityChecklist = Invoke-WebRequest -Uri $CheckListUrl | Select-Object -ExpandProperty Content | ConvertFrom-Json | Select-Object -ExpandProperty items"
   ]
  },
  {
   "cell_type": "markdown",
   "metadata": {},
   "source": [
    "# Use HTTPS only\n",
    "\n",
    "*Severity*: High\n",
    "\n",
    "Configure App Service to use HTTPS only. This causes App Service to redirect from HTTP to HTTPS.  Strongly consider the use of HTTP Strict Transport Security (HSTS) in your code or from your WAF, which informs browsers that the site should only be accessed using HTTPS.\n",
    "\n",
    "It can be *acceptable* to not enforce HTTPS in cases such as the site being behind Azure Front Door via a private endpoint.\n",
    "\n",
    "The overhead from HTTPS compared to HTTP is mostly some handshakes and generally has no performance impact.\n",
    "\n",
    "The following sites (run code below) are not enforcing HTTPS."
   ]
  },
  {
   "cell_type": "code",
   "execution_count": null,
   "metadata": {
    "dotnet_interactive": {
     "language": "pwsh"
    },
    "polyglot_notebook": {
     "kernelName": "pwsh"
    }
   },
   "outputs": [],
   "source": [
    "$CheckListId = \"475ba18f-dbf5-490c-b65d-e8e03f9bcbd4\"\n",
    "\n",
    "Invoke-AzResourceGraphCheck -CheckList $appsvcSecurityChecklist -CheckListId $CheckListId -DebugMode $DebugMode\n"
   ]
  },
  {
   "cell_type": "markdown",
   "metadata": {},
   "source": [
    "# Set minimum TLS policy to 1.2\n",
    "\n",
    "*Severity*: Medium\n",
    "\n",
    "Set minimum TLS policy to 1.2 in App Service configuration.\n",
    "\n",
    "Only legacy clients are not able to support TLS 1.2, and it should generally be safe to enforce using TLS 1.2 or higher.\n",
    "\n",
    "The following sites (run code below) are not enforcing the use of TLS 1.2 or higher."
   ]
  },
  {
   "cell_type": "code",
   "execution_count": null,
   "metadata": {
    "dotnet_interactive": {
     "language": "pwsh"
    },
    "polyglot_notebook": {
     "kernelName": "pwsh"
    }
   },
   "outputs": [],
   "source": [
    "$CheckListId = \"c115775c-2ea5-45b4-9ad4-8408ee72734b\"\n",
    "\n",
    "Invoke-AzResourceGraphCheck -CheckList $appsvcSecurityChecklist -CheckListId $CheckListId -DebugMode $DebugMode\n"
   ]
  },
  {
   "cell_type": "markdown",
   "metadata": {},
   "source": [
    "# Turn off remote debugging\n",
    "\n",
    "*Severity*: High\n",
    "\n",
    "Remote debugging must not be turned on in production as this opens additional ports on the service which increases the attack surface. Note that the service does turn of remote debugging automatically after 48 hours.\n",
    "\n",
    "The following sites (run code below) have remote debugging enabled."
   ]
  },
  {
   "cell_type": "code",
   "execution_count": null,
   "metadata": {
    "dotnet_interactive": {
     "language": "pwsh"
    },
    "polyglot_notebook": {
     "kernelName": "pwsh"
    }
   },
   "outputs": [],
   "source": [
    "$CheckListId = \"d9bd3baf-cda3-4b54-bb2e-b03dd9a25827\"\n",
    "\n",
    "Invoke-AzResourceGraphCheck -CheckList $appsvcSecurityChecklist -CheckListId $CheckListId -DebugMode $DebugMode\n"
   ]
  }
 ],
 "metadata": {
  "kernelspec": {
   "display_name": ".NET (C#)",
   "language": "C#",
   "name": ".net-csharp"
  },
  "language_info": {
   "name": "polyglot-notebook"
  },
  "polyglot_notebook": {
   "kernelInfo": {
    "defaultKernelName": "csharp",
    "items": [
     {
      "aliases": [],
      "name": "csharp"
     },
     {
      "aliases": [],
      "languageName": "pwsh",
      "name": "pwsh"
     }
    ]
   }
  }
 },
 "nbformat": 4,
 "nbformat_minor": 2
}
