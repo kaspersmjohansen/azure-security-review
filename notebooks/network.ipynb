{
 "cells": [
  {
   "cell_type": "code",
   "execution_count": 24,
   "metadata": {
    "dotnet_interactive": {
     "language": "pwsh"
    },
    "polyglot_notebook": {
     "kernelName": "pwsh"
    }
   },
   "outputs": [
    {
     "name": "stdout",
     "output_type": "stream",
     "text": [
      "\n",
      "\u001b[32;1mName                   Id\u001b[0m\n",
      "\u001b[32;1m----                   --\u001b[0m\n",
      "PAYG                   571cdf6c-7f34-4f95-b66d-1cb05b0fae5b\n",
      "Visual Studio VENZO 1  b9334351-cec8-405d-8358-51846fa2a3ab\n",
      "Visual Studio VENZO 2  ddc12ba0-8cd6-4df1-addb-a9a9f67e236c\n",
      "Visual Studio APENTO 1 f13a55a2-5dc2-445c-bed1-8d980d58d892\n",
      "Visual Studio APENTO 2 1d57e5e2-41ef-4909-8f04-657c0b69a276\n",
      "\n"
     ]
    }
   ],
   "source": [
    "# 690e25b4-8c5e-4a10-a32e-523da88a4c99 is my demo tenant\n",
    "$TenantId = '690e25b4-8c5e-4a10-a32e-523da88a4c99' #\"<TENANT_ID>\"\n",
    "$SubscriptionId = 'b9334351-cec8-405d-8358-51846fa2a3ab'\n",
    "\n",
    ". \"..\\src\\functions.ps1\"\n",
    "\n",
    "try{\n",
    "    $null = Set-AzContext -TenantId $TenantId -SubscriptionId $SubscriptionId -ErrorAction Stop\n",
    "}\n",
    "catch{\n",
    "    $null = Connect-AzAccount -TenantId $TenantId\n",
    "}\n",
    "\n",
    "Get-AzSubscription -TenantId $TenantId | Select-Object -Property Name, Id"
   ]
  },
  {
   "cell_type": "markdown",
   "metadata": {},
   "source": [
    "# Subnets should have an NSG associated\n",
    "\n",
    "Below shows subnets with no NSG associated. Delegated subnets are less important to protect using NSGs, but should still be so if at all possible."
   ]
  },
  {
   "cell_type": "code",
   "execution_count": 25,
   "metadata": {
    "dotnet_interactive": {
     "language": "pwsh"
    },
    "polyglot_notebook": {
     "kernelName": "pwsh"
    }
   },
   "outputs": [
    {
     "name": "stdout",
     "output_type": "stream",
     "text": [
      "\n",
      "\u001b[32;1mVNET Name             Subnet Name Delegated id\u001b[0m\n",
      "\u001b[32;1m---------             ----------- --------- --\u001b[0m\n",
      "arc-host-vnet         NAT         no        /subscriptions/ddc12ba0-8cd6-4df1-addb-a9a9f67e236c/re…\n",
      "arc-host-vnet         LAN         no        /subscriptions/ddc12ba0-8cd6-4df1-addb-a9a9f67e236c/re…\n",
      "desktop01-vnet        default     no        /subscriptions/f13a55a2-5dc2-445c-bed1-8d980d58d892/re…\n",
      "stweaznfs_vNet6006880 default     no        /subscriptions/b9334351-cec8-405d-8358-51846fa2a3ab/re…\n",
      "\n"
     ]
    }
   ],
   "source": [
    "$Query = @\"\n",
    "resources\n",
    "| where type == \"microsoft.network/virtualnetworks\"\n",
    "| mvexpand subnets = properties.subnets\n",
    "| extend Delegated = iif(array_length(subnets.properties.delegations) == 0, \"no\", \"yes\")\n",
    "| where isempty(subnets.properties.networkSecurityGroup)\n",
    "| project [\"VNET Name\"] = name, [\"Subnet Name\"] = subnets.name, Delegated, id = subnets.id\n",
    "\"@\n",
    "\n",
    "Search-AzGraph -Query $Query -UseTenantScope | Select-Object -ExpandProperty Data | Select-Object -ExcludeProperty ResourceId | Format-Table -AutoSize"
   ]
  },
  {
   "cell_type": "markdown",
   "metadata": {},
   "source": [
    "# NSG Deny All Rule\n",
    "\n",
    "All subnets should have a deny all rule (\"deny by default, permit by exception\" approach). This can be implemented with a priority of 4096 (last rule evaluated always), which counters some of the default rules that ex. allows VNET to VNET (traffic tagged as VNET).\n",
    "\n",
    "Below outputs the NSGs without such a rule."
   ]
  },
  {
   "cell_type": "code",
   "execution_count": 26,
   "metadata": {
    "dotnet_interactive": {
     "language": "pwsh"
    },
    "polyglot_notebook": {
     "kernelName": "pwsh"
    }
   },
   "outputs": [
    {
     "name": "stdout",
     "output_type": "stream",
     "text": [
      "\n",
      "\u001b[32;1mname             id\u001b[0m\n",
      "\u001b[32;1m----             --\u001b[0m\n",
      "                 \n",
      "nsg-insecure-01  /subscriptions/b9334351-cec8-405d-8358-51846fa2a3ab/resourceGroups/rg-insecure-st…\n",
      "nsg-withflowlogs /subscriptions/b9334351-cec8-405d-8358-51846fa2a3ab/resourceGroups/rg-network/pro…\n",
      "archost01-nsg    /subscriptions/ddc12ba0-8cd6-4df1-addb-a9a9f67e236c/resourceGroups/rg-arc-host/pr…\n",
      "desktop01-nsg    /subscriptions/f13a55a2-5dc2-445c-bed1-8d980d58d892/resourceGroups/rg-desktop/pro…\n",
      "\n"
     ]
    }
   ],
   "source": [
    "<#\n",
    "powershell:\n",
    "find NSGs with a \"deny all\" rule. as azgraph does not support antijoins we will have to find the NSGs that does NOT have such a rule\n",
    "#>\n",
    "$Query = @\"\n",
    "resources\n",
    "| where type == \"microsoft.network/networksecuritygroups\"\n",
    "| extend p = todynamic(properties.securityRules)\n",
    "| mvexpand p\n",
    "| where p.properties.access == \"Deny\" and p.properties.direction == \"Inbound\" and p.properties.destinationPortRange == '*' and p.properties.sourceAddressPrefix == '*'\n",
    "| extend nsg_id = substring(p.id, 0, strlen(p.id) - strlen(strcat('/securityRules/',p.name)))\n",
    "| join (\n",
    "\tresources\n",
    "\t| where type == \"microsoft.network/networksecuritygroups\"\n",
    "\t| project name, nsg_id = id\n",
    ") on nsg_id\n",
    "| project name, nsg_id\n",
    "\"@\n",
    "[array]$NSGsWithDenyAllRule = @(Search-AzGraph -Query $Query -UseTenantScope)\n",
    "# we also need all NSG IDs\n",
    "$Query = @\"\n",
    "resources\n",
    "| where type == \"microsoft.network/networksecuritygroups\"\n",
    "| project name, nsg_id = id\n",
    "\"@\n",
    "#\n",
    "[array]$NSGs = Search-AzGraph -Query $Query -UseTenantScope\n",
    "# and finally we can compare and find which NSGs does not have such a rule\n",
    "Compare-Object -ReferenceObject $NSGs -DifferenceObject $NSGsWithDenyAllRule -Property nsg_id -PassThru | Select-Object name, @{name='id';expression={$_.nsg_id}}\n"
   ]
  },
  {
   "cell_type": "markdown",
   "metadata": {},
   "source": [
    "# Open Management Ports\n",
    "\n",
    "Below query identifies NSG rules that expose management ports to the Internet. It will not find obscure rules like allowing *3380-3390*.\n",
    "\n",
    "Expose your Virtual Machines using Azure Bastion or other similar service. Avoid exposing VMs directly to the Internet."
   ]
  },
  {
   "cell_type": "code",
   "execution_count": 27,
   "metadata": {
    "dotnet_interactive": {
     "language": "pwsh"
    },
    "polyglot_notebook": {
     "kernelName": "pwsh"
    }
   },
   "outputs": [
    {
     "name": "stdout",
     "output_type": "stream",
     "text": [
      "\n",
      "\u001b[32;1mNSG rule name  Exposed port  NSG name        id\u001b[0m\n",
      "\u001b[32;1m-------------  ------------  --------        --\u001b[0m\n",
      "Internet223389 [\"22\",\"3389\"] nsg-insecure-01 /subscriptions/b9334351-cec8-405d-8358-51846fa2a3ab/r…\n",
      "Internet3389   3389          nsg-insecure-01 /subscriptions/b9334351-cec8-405d-8358-51846fa2a3ab/r…\n",
      "Internet22     22            nsg-insecure-01 /subscriptions/b9334351-cec8-405d-8358-51846fa2a3ab/r…\n",
      "\n"
     ]
    }
   ],
   "source": [
    "# check for open management ports\n",
    "$Query = @\"\n",
    "resources\n",
    "| where type == \"microsoft.network/networksecuritygroups\"\n",
    "| extend p = todynamic(properties.securityRules)\n",
    "| mvexpand p\n",
    "| extend destinationPortRange = p.properties.destinationPortRange\n",
    "| extend destinationPortRanges = p.properties.destinationPortRanges\n",
    "| extend sourceAddressPrefix = p.properties.sourceAddressPrefix\n",
    "| extend access = p.properties.access\n",
    "| extend direction = p.properties.direction\n",
    "| where access == \"Allow\" and direction == \"Inbound\" \n",
    "| where destinationPortRange contains \"22\" or destinationPortRange contains \"3389\" or destinationPortRanges has \"22\" or destinationPortRanges has \"3389\"\n",
    "| where sourceAddressPrefix == '*' or sourceAddressPrefix == 'Internet'\n",
    "| extend port = strcat(destinationPortRange, iff(array_length( destinationPortRanges) == 0, '', destinationPortRanges))\n",
    "| extend nsg_id = substring(p.id, 0, strlen(p.id) - strlen(strcat('/securityRules/',p.name)))\n",
    "| join kind=inner (\n",
    "\tresources\n",
    "\t| where type == \"microsoft.network/networksecuritygroups\"\n",
    "\t| project name, nsg_id = id\n",
    ") on nsg_id\n",
    "| project [\"NSG rule name\"] = p.name, [\"Exposed port\"] = port, [\"NSG name\"] = name, id = nsg_id\n",
    "\"@\n",
    "(Search-AzGraph -Query $Query -UseTenantScope).Data | Select-Object -ExcludeProperty ResourceId"
   ]
  },
  {
   "cell_type": "markdown",
   "metadata": {},
   "source": [
    "# NSG Flow Logs\n",
    "\n",
    "Network Security Groups should have flow logs enabled.\n",
    "\n",
    "A more recent alternative (preview) is Virtual Network Flow Logs. This gives more insight into network traffic flows, but obviously does not tell you what an NSG blocked or allowed.\n",
    "\n",
    "Best practice is to enforce NSG Flow Logs using Azure Policies.\n",
    "\n",
    "Below will show Network Security Groups without flow logs enabled."
   ]
  },
  {
   "cell_type": "code",
   "execution_count": 28,
   "metadata": {
    "dotnet_interactive": {
     "language": "pwsh"
    },
    "polyglot_notebook": {
     "kernelName": "pwsh"
    }
   },
   "outputs": [
    {
     "name": "stdout",
     "output_type": "stream",
     "text": [
      "\n",
      "\u001b[32;1mname            id\u001b[0m\n",
      "\u001b[32;1m----            --\u001b[0m\n",
      "nsg-insecure-01 /subscriptions/b9334351-cec8-405d-8358-51846fa2a3ab/resourceGroups/rg-insecure-stu…\n",
      "archost01-nsg   /subscriptions/ddc12ba0-8cd6-4df1-addb-a9a9f67e236c/resourceGroups/rg-arc-host/pro…\n",
      "desktop01-nsg   /subscriptions/f13a55a2-5dc2-445c-bed1-8d980d58d892/resourceGroups/rg-desktop/prov…\n",
      "\n"
     ]
    }
   ],
   "source": [
    "# \n",
    "$Query = @\"\n",
    "resources\n",
    "| where type =~ \"microsoft.network/networkwatchers/flowlogs\"\n",
    "| where properties.enabled == true\n",
    "| extend nsg_id = tostring(properties.targetResourceId)\n",
    "| extend flowAnalytics = properties.flowAnalyticsConfiguration.networkWatcherFlowAnalyticsConfiguration.enabled\n",
    "| project nsg_id, flowAnalytics\n",
    "| join(\n",
    "    resources\n",
    "    | where type =~ \"microsoft.network/networksecuritygroups\"\n",
    "    | mvexpand subnet = parse_json(properties.subnets)\n",
    "    | project nsg_id = tostring(id), name, subnet\n",
    "    ) on nsg_id\n",
    "| project Name = name, [\"Subnet\"] = subnet[\"id\"], ['Flow analytics enabled'] = flowAnalytics, nsg_id\n",
    "\"@\n",
    "[array]$NSGsWithFlowLogs = (Search-AzGraph -Query $Query -UseTenantScope).Data | Select-Object -ExcludeProperty ResourceId\n",
    "\n",
    "# we also need all NSG IDs\n",
    "$Query = @\"\n",
    "resources\n",
    "| where type == \"microsoft.network/networksecuritygroups\"\n",
    "| project name, nsg_id = id\n",
    "\"@\n",
    "#\n",
    "[array]$NSGs = Search-AzGraph -Query $Query -UseTenantScope\n",
    "# and finally we can compare and find which NSGs does not have such a rule\n",
    "Compare-Object -ReferenceObject $NSGs -DifferenceObject $NSGsWithFlowLogs -Property nsg_id -PassThru | Select-Object name, @{name='id';expression={$_.nsg_id}}"
   ]
  }
 ],
 "metadata": {
  "kernelspec": {
   "display_name": ".NET (C#)",
   "language": "C#",
   "name": ".net-csharp"
  },
  "language_info": {
   "name": "polyglot-notebook"
  },
  "polyglot_notebook": {
   "kernelInfo": {
    "defaultKernelName": "csharp",
    "items": [
     {
      "aliases": [],
      "name": "csharp"
     },
     {
      "aliases": [],
      "languageName": "pwsh",
      "name": "pwsh"
     }
    ]
   }
  }
 },
 "nbformat": 4,
 "nbformat_minor": 2
}
