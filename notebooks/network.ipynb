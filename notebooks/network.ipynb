{
 "cells": [
  {
   "cell_type": "code",
   "execution_count": 1,
   "metadata": {
    "dotnet_interactive": {
     "language": "pwsh"
    },
    "polyglot_notebook": {
     "kernelName": "pwsh"
    }
   },
   "outputs": [],
   "source": [
    "$TenantId = $global:TenantId\n",
    "\n",
    ". \"..\\src\\functions.ps1\""
   ]
  },
  {
   "cell_type": "markdown",
   "metadata": {},
   "source": [
    "# Use HTTPS only\n",
    "\n",
    "*Severity*: High\n",
    "\n",
    "Configure App Service to use HTTPS only. This causes App Service to redirect from HTTP to HTTPS.  Strongly consider the use of HTTP Strict Transport Security (HSTS) in your code or from your WAF, which informs browsers that the site should only be accessed using HTTPS.\n",
    "\n",
    "It can be *acceptable* to not enforce HTTPS in cases such as the site being behind Azure Front Door via a private endpoint.\n",
    "\n",
    "The overhead from HTTPS compared to HTTP is mostly some handshakes and generally has no performance impact.\n",
    "\n",
    "The following sites are not enforcing HTTPS."
   ]
  },
  {
   "cell_type": "code",
   "execution_count": 70,
   "metadata": {
    "dotnet_interactive": {
     "language": "pwsh"
    },
    "polyglot_notebook": {
     "kernelName": "pwsh"
    }
   },
   "outputs": [
    {
     "name": "stdout",
     "output_type": "stream",
     "text": [
      "/subscriptions/3dd6cccb-ab8d-4bbd-a1f0-f4d03e7f978e/resourceGroups/rg-scepman/providers/Microsoft.Web/sites/app-scepman-SBF\n",
      "/subscriptions/c1f00e5a-5843-427a-82a5-8a384949bb33/resourceGroups/sbh-dev-rg/providers/Microsoft.Web/sites/Test-WebUI-Encrypted\n",
      "/subscriptions/c1f00e5a-5843-427a-82a5-8a384949bb33/resourceGroups/sbh-hfx-rg/providers/Microsoft.Web/sites/Sbf-qfree-ObeReplacement-api-HFX\n",
      "/subscriptions/c1f00e5a-5843-427a-82a5-8a384949bb33/resourceGroups/sbh-prd-rg/providers/Microsoft.Web/sites/Sbf-qfree-ObeReplacement-api-PRD\n",
      "/subscriptions/c1f00e5a-5843-427a-82a5-8a384949bb33/resourceGroups/sbh-sit-rg/providers/Microsoft.Web/sites/Sbf-qfree-ObeReplacement-api-sit\n",
      "/subscriptions/c1f00e5a-5843-427a-82a5-8a384949bb33/resourceGroups/sbh-uat-rg/providers/Microsoft.Web/sites/Sbf-qfree-ObeReplacement-api-uat\n",
      "/subscriptions/ee662a05-d09f-4d66-89c4-82878e7b030d/resourceGroups/Drone-Data-Produktion/providers/Microsoft.Web/sites/sbh-web-app-prod\n",
      "/subscriptions/ee662a05-d09f-4d66-89c4-82878e7b030d/resourceGroups/Drone-Data-Produktion/providers/Microsoft.Web/sites/sbh-web-app-webjobhost-prod\n"
     ]
    }
   ],
   "source": [
    "$CheckListId = \"475ba18f-dbf5-490c-b65d-e8e03f9bcbd4\"\n",
    "\n",
    "Invoke-AzResourceGraphCheck -CheckList $appsvcSecurityChecklist -CheckListId $CheckListId -DebugMode $DebugMode\n"
   ]
  },
  {
   "cell_type": "markdown",
   "metadata": {},
   "source": [
    "# Set minimum TLS policy to 1.2\n",
    "\n",
    "*Severity*: Medium\n",
    "\n",
    "Set minimum TLS policy to 1.2 in App Service configuration.\n",
    "\n",
    "Only legacy clients are not able to support TLS 1.2, and it should generally be safe to enforce using TLS 1.2 or higher.\n",
    "\n",
    "The following sites are not enforcing the use of TLS 1.2 or higher."
   ]
  },
  {
   "cell_type": "code",
   "execution_count": 71,
   "metadata": {
    "dotnet_interactive": {
     "language": "pwsh"
    },
    "polyglot_notebook": {
     "kernelName": "pwsh"
    }
   },
   "outputs": [],
   "source": [
    "$CheckListId = \"c115775c-2ea5-45b4-9ad4-8408ee72734b\"\n",
    "\n",
    "Invoke-AzResourceGraphCheck -CheckList $appsvcSecurityChecklist -CheckListId $CheckListId -DebugMode $DebugMode\n"
   ]
  },
  {
   "cell_type": "markdown",
   "metadata": {},
   "source": [
    "# Turn off remote debugging\n",
    "\n",
    "*Severity*: High\n",
    "\n",
    "Remote debugging must not be turned on in production as this opens additional ports on the service which increases the attack surface. Note that the service does turn of remote debugging automatically after 48 hours.\n",
    "\n",
    "The following sites have remote debugging enabled."
   ]
  },
  {
   "cell_type": "code",
   "execution_count": 72,
   "metadata": {
    "dotnet_interactive": {
     "language": "pwsh"
    },
    "polyglot_notebook": {
     "kernelName": "pwsh"
    }
   },
   "outputs": [],
   "source": [
    "$CheckListId = \"d9bd3baf-cda3-4b54-bb2e-b03dd9a25827\"\n",
    "\n",
    "Invoke-AzResourceGraphCheck -CheckList $appsvcSecurityChecklist -CheckListId $CheckListId -DebugMode $DebugMode\n"
   ]
  }
 ],
 "metadata": {
  "kernelspec": {
   "display_name": ".NET (PowerShell)",
   "language": "PowerShell",
   "name": ".net-pwsh"
  },
  "language_info": {
   "name": "polyglot-notebook"
  },
  "polyglot_notebook": {
   "kernelInfo": {
    "defaultKernelName": "pwsh",
    "items": [
     {
      "aliases": [],
      "languageName": "pwsh",
      "name": "pwsh"
     }
    ]
   }
  }
 },
 "nbformat": 4,
 "nbformat_minor": 2
}
