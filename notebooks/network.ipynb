{
 "cells": [
  {
   "cell_type": "code",
   "execution_count": null,
   "metadata": {
    "dotnet_interactive": {
     "language": "pwsh"
    },
    "polyglot_notebook": {
     "kernelName": "pwsh"
    }
   },
   "outputs": [],
   "source": [
    "# 690e25b4-8c5e-4a10-a32e-523da88a4c99 is my demo tenant\n",
    "$TenantId = '690e25b4-8c5e-4a10-a32e-523da88a4c99' #\"<TENANT_ID>\"\n",
    "$SubscriptionId = 'b9334351-cec8-405d-8358-51846fa2a3ab'\n",
    "\n",
    ". \"..\\src\\functions.ps1\"\n",
    "\n",
    "try{\n",
    "    Set-AzContext -TenantId $TenantId -SubscriptionId $SubscriptionId -ErrorAction Stop\n",
    "}\n",
    "catch{\n",
    "    Connect-AzAccount -TenantId $TenantId\n",
    "}\n",
    "\n",
    "$CheckListUrl = 'https://raw.githubusercontent.com/Azure/review-checklists/main/checklists/appsvc_security_checklist.en.json'\n",
    "$appsvcSecurityChecklist = Invoke-WebRequest -Uri $CheckListUrl | Select-Object -ExpandProperty Content | ConvertFrom-Json | Select-Object -ExpandProperty items"
   ]
  },
  {
   "cell_type": "markdown",
   "metadata": {},
   "source": [
    "# Subnets should have an NSG associated\n",
    "\n",
    "Below shows subnets with no NSG associated. Delegated subnets are less important to protect using NSGs, but should still be so if at all possible."
   ]
  },
  {
   "cell_type": "code",
   "execution_count": null,
   "metadata": {
    "dotnet_interactive": {
     "language": "pwsh"
    },
    "polyglot_notebook": {
     "kernelName": "pwsh"
    }
   },
   "outputs": [],
   "source": [
    "$Query = @\"\n",
    "resources\n",
    "| where type == \"microsoft.network/virtualnetworks\"\n",
    "| mvexpand subnets = properties.subnets\n",
    "| extend Delegated = iif(array_length(subnets.properties.delegations) == 0, \"no\", \"yes\")\n",
    "| where isempty(subnets.properties.networkSecurityGroup)\n",
    "| project [\"VNET Name\"] = name, [\"Subnet Name\"] = subnets.name, Delegated, id = subnets.id\n",
    "\"@\n",
    "\n",
    "Search-AzGraph -Query $Query | Select-Object -ExpandProperty Data | Select-Object -ExcludeProperty ResourceId | Format-Table -AutoSize"
   ]
  },
  {
   "cell_type": "markdown",
   "metadata": {},
   "source": [
    "# NSG Deny All Rule\n",
    "\n",
    "All subnets should have a deny all rule (\"deny by default, permit by exception\" approach). This can be implemented with a priority of 4096 (last rule evaluated always), which counters some of the default rules that ex. allows VNET to VNET (traffic tagged as VNET).\n",
    "\n",
    "Below outputs the NSGs without such a rule."
   ]
  },
  {
   "cell_type": "code",
   "execution_count": null,
   "metadata": {
    "dotnet_interactive": {
     "language": "pwsh"
    },
    "polyglot_notebook": {
     "kernelName": "pwsh"
    }
   },
   "outputs": [],
   "source": [
    "<#\n",
    "powershell:\n",
    "find NSGs with a \"deny all\" rule. as azgraph does not support antijoins we will have to find the NSGs that does NOT have such a rule\n",
    "#>\n",
    "$Query = @\"\n",
    "resources\n",
    "| where type == \"microsoft.network/networksecuritygroups\"\n",
    "| extend p = todynamic(properties.securityRules)\n",
    "| mvexpand p\n",
    "| where p.properties.access == \"Deny\" and p.properties.direction == \"Inbound\" and p.properties.destinationPortRange == '*' and p.properties.sourceAddressPrefix == '*'\n",
    "| extend nsg_id = substring(p.id, 0, strlen(p.id) - strlen(strcat('/securityRules/',p.name)))\n",
    "| join (\n",
    "\tresources\n",
    "\t| where type == \"microsoft.network/networksecuritygroups\"\n",
    "\t| project name, nsg_id = id\n",
    ") on nsg_id\n",
    "| project name, nsg_id\n",
    "\"@\n",
    "[array]$NSGsWithDenyAllRule = @(Search-AzGraph -Query $Query)\n",
    "# we also need all NSG IDs\n",
    "$Query = @\"\n",
    "resources\n",
    "| where type == \"microsoft.network/networksecuritygroups\"\n",
    "| project name, nsg_id = id\n",
    "\"@\n",
    "# $NSGs = @(\n",
    "[array]$NSGs = Search-AzGraph -Query $Query\n",
    "# and finally we can compare and find which NSGs does not have such a rule\n",
    "Compare-Object -ReferenceObject $NSGs -DifferenceObject $NSGsWithDenyAllRule -Property nsg_id -PassThru | Select-Object name, @{name='id';expression={$_.nsg_id}}\n"
   ]
  },
  {
   "cell_type": "markdown",
   "metadata": {},
   "source": [
    "# Open Management Ports\n",
    "\n",
    "Below query identifies NSG rules that expose management ports to the Internet. It will not find obscure rules like allowing *3380-3390*.\n",
    "\n",
    "Expose your Virtual Machines using Azure Bastion or other similar service. Avoid exposing VMs directly to the Internet."
   ]
  },
  {
   "cell_type": "code",
   "execution_count": null,
   "metadata": {
    "dotnet_interactive": {
     "language": "pwsh"
    },
    "polyglot_notebook": {
     "kernelName": "pwsh"
    }
   },
   "outputs": [],
   "source": [
    "# check for open management ports\n",
    "$Query = @\"\n",
    "resources\n",
    "| where type == \"microsoft.network/networksecuritygroups\"\n",
    "| extend p = todynamic(properties.securityRules)\n",
    "| mvexpand p\n",
    "| extend destinationPortRange = p.properties.destinationPortRange\n",
    "| extend destinationPortRanges = p.properties.destinationPortRanges\n",
    "| extend sourceAddressPrefix = p.properties.sourceAddressPrefix\n",
    "| extend access = p.properties.access\n",
    "| extend direction = p.properties.direction\n",
    "| where access == \"Allow\" and direction == \"Inbound\" \n",
    "| where destinationPortRange contains \"22\" or destinationPortRange contains \"3389\" or destinationPortRanges has \"22\" or destinationPortRanges has \"3389\"\n",
    "| where sourceAddressPrefix == '*' or sourceAddressPrefix == 'Internet'\n",
    "| extend port = strcat(destinationPortRange, iff(array_length( destinationPortRanges) == 0, '', destinationPortRanges))\n",
    "| extend nsg_id = substring(p.id, 0, strlen(p.id) - strlen(strcat('/securityRules/',p.name)))\n",
    "| join kind=inner (\n",
    "\tresources\n",
    "\t| where type == \"microsoft.network/networksecuritygroups\"\n",
    "\t| project name, nsg_id = id\n",
    ") on nsg_id\n",
    "| project [\"NSG rule name\"] = p.name, [\"Exposed port\"] = port, [\"NSG name\"] = name, id = nsg_id\n",
    "\"@\n",
    "(Search-AzGraph -Query $Query).Data | Select-Object -ExcludeProperty ResourceId"
   ]
  }
 ],
 "metadata": {
  "kernelspec": {
   "display_name": ".NET (C#)",
   "language": "C#",
   "name": ".net-csharp"
  },
  "language_info": {
   "name": "polyglot-notebook"
  },
  "polyglot_notebook": {
   "kernelInfo": {
    "defaultKernelName": "csharp",
    "items": [
     {
      "aliases": [],
      "name": "csharp"
     },
     {
      "aliases": [],
      "languageName": "pwsh",
      "name": "pwsh"
     }
    ]
   }
  }
 },
 "nbformat": 4,
 "nbformat_minor": 2
}
