{
 "cells": [
  {
   "cell_type": "code",
   "execution_count": null,
   "metadata": {
    "dotnet_interactive": {
     "language": "pwsh"
    },
    "polyglot_notebook": {
     "kernelName": "pwsh"
    }
   },
   "outputs": [],
   "source": [
    "# b9a44c5c-ec32-467d-8c4b-534b3f2ea9db is my demo tenant\n",
    "$TenantId = 'b9a44c5c-ec32-467d-8c4b-534b3f2ea9db' #\"<TENANT_ID>\"\n",
    "\n",
    ". \"..\\src\\functions.ps1\"\n",
    "\n",
    "try{\n",
    "    Set-AzContext -TenantId $TenantId -ErrorAction Stop\n",
    "}\n",
    "catch{\n",
    "    Connect-AzAccount -TenantId $TenantId\n",
    "}"
   ]
  },
  {
   "cell_type": "markdown",
   "metadata": {},
   "source": [
    "# Use HTTPS only\n",
    "\n",
    "*Severity*: High\n",
    "\n",
    "Configure App Service to use HTTPS only. This causes App Service to redirect from HTTP to HTTPS.  Strongly consider the use of HTTP Strict Transport Security (HSTS) in your code or from your WAF, which informs browsers that the site should only be accessed using HTTPS.\n",
    "\n",
    "It can be *acceptable* to not enforce HTTPS in cases such as the site being behind Azure Front Door via a private endpoint.\n",
    "\n",
    "The overhead from HTTPS compared to HTTP is mostly some handshakes and generally has no performance impact.\n",
    "\n",
    "The following sites are not enforcing HTTPS."
   ]
  },
  {
   "cell_type": "code",
   "execution_count": null,
   "metadata": {
    "dotnet_interactive": {
     "language": "pwsh"
    },
    "polyglot_notebook": {
     "kernelName": "pwsh"
    }
   },
   "outputs": [],
   "source": [
    "$CheckListId = \"475ba18f-dbf5-490c-b65d-e8e03f9bcbd4\"\n",
    "\n",
    "Invoke-AzResourceGraphCheck -CheckList $appsvcSecurityChecklist -CheckListId $CheckListId -DebugMode $DebugMode\n"
   ]
  },
  {
   "cell_type": "markdown",
   "metadata": {},
   "source": [
    "# Set minimum TLS policy to 1.2\n",
    "\n",
    "*Severity*: Medium\n",
    "\n",
    "Set minimum TLS policy to 1.2 in App Service configuration.\n",
    "\n",
    "Only legacy clients are not able to support TLS 1.2, and it should generally be safe to enforce using TLS 1.2 or higher.\n",
    "\n",
    "The following sites are not enforcing the use of TLS 1.2 or higher."
   ]
  },
  {
   "cell_type": "code",
   "execution_count": null,
   "metadata": {
    "dotnet_interactive": {
     "language": "pwsh"
    },
    "polyglot_notebook": {
     "kernelName": "pwsh"
    }
   },
   "outputs": [],
   "source": [
    "$CheckListId = \"c115775c-2ea5-45b4-9ad4-8408ee72734b\"\n",
    "\n",
    "Invoke-AzResourceGraphCheck -CheckList $appsvcSecurityChecklist -CheckListId $CheckListId -DebugMode $DebugMode\n"
   ]
  },
  {
   "cell_type": "markdown",
   "metadata": {},
   "source": [
    "# Turn off remote debugging\n",
    "\n",
    "*Severity*: High\n",
    "\n",
    "Remote debugging must not be turned on in production as this opens additional ports on the service which increases the attack surface. Note that the service does turn of remote debugging automatically after 48 hours.\n",
    "\n",
    "The following sites have remote debugging enabled."
   ]
  },
  {
   "cell_type": "code",
   "execution_count": null,
   "metadata": {
    "dotnet_interactive": {
     "language": "pwsh"
    },
    "polyglot_notebook": {
     "kernelName": "pwsh"
    }
   },
   "outputs": [],
   "source": [
    "$CheckListId = \"d9bd3baf-cda3-4b54-bb2e-b03dd9a25827\"\n",
    "\n",
    "Invoke-AzResourceGraphCheck -CheckList $appsvcSecurityChecklist -CheckListId $CheckListId -DebugMode $DebugMode\n"
   ]
  },
  {
   "cell_type": "markdown",
   "metadata": {},
   "source": [
    "# Subnets should have an NSG associated\n",
    "\n",
    "Below shows subnets with no NSG associated. Delegated subnets are less important to protect using NSGs, but should still be so if at all possible."
   ]
  },
  {
   "cell_type": "code",
   "execution_count": null,
   "metadata": {
    "dotnet_interactive": {
     "language": "pwsh"
    },
    "polyglot_notebook": {
     "kernelName": "pwsh"
    }
   },
   "outputs": [],
   "source": [
    "$Query = @\"\n",
    "resources\n",
    "| where type == \"microsoft.network/virtualnetworks\"\n",
    "| mvexpand subnets = properties.subnets\n",
    "| extend Delegated = iif(array_length(subnets.properties.delegations) == 0, \"no\", \"yes\")\n",
    "| where isempty(subnets.properties.networkSecurityGroup)\n",
    "| project [\"VNET Name\"] = name, [\"Subnet Name\"] = subnets.name, Delegated, id = subnets.id\n",
    "\"@\n",
    "\n",
    "Search-AzGraph -Query $Query | Select-Object -ExpandProperty Data | Select-Object -ExcludeProperty ResourceId | Format-Table -AutoSize"
   ]
  }
 ],
 "metadata": {
  "kernelspec": {
   "display_name": ".NET (PowerShell)",
   "language": "PowerShell",
   "name": ".net-pwsh"
  },
  "language_info": {
   "name": "polyglot-notebook"
  },
  "polyglot_notebook": {
   "kernelInfo": {
    "defaultKernelName": "pwsh",
    "items": [
     {
      "aliases": [],
      "languageName": "pwsh",
      "name": "pwsh"
     }
    ]
   }
  }
 },
 "nbformat": 4,
 "nbformat_minor": 2
}
